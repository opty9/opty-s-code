{
 "cells": [
  {
   "cell_type": "code",
   "execution_count": 6,
   "metadata": {},
   "outputs": [
    {
     "name": "stdout",
     "output_type": "stream",
     "text": [
      "Requirement already satisfied: xmltodict in c:\\users\\82104\\appdata\\local\\programs\\python\\python311\\lib\\site-packages (0.13.0)\n"
     ]
    },
    {
     "name": "stderr",
     "output_type": "stream",
     "text": [
      "\n",
      "[notice] A new release of pip available: 22.3.1 -> 23.0.1\n",
      "[notice] To update, run: python.exe -m pip install --upgrade pip\n"
     ]
    },
    {
     "name": "stdout",
     "output_type": "stream",
     "text": [
      "Requirement already satisfied: requests in c:\\users\\82104\\appdata\\local\\programs\\python\\python311\\lib\\site-packages (2.28.2)\n",
      "Requirement already satisfied: charset-normalizer<4,>=2 in c:\\users\\82104\\appdata\\local\\programs\\python\\python311\\lib\\site-packages (from requests) (3.1.0)\n",
      "Requirement already satisfied: idna<4,>=2.5 in c:\\users\\82104\\appdata\\local\\programs\\python\\python311\\lib\\site-packages (from requests) (3.4)\n",
      "Requirement already satisfied: urllib3<1.27,>=1.21.1 in c:\\users\\82104\\appdata\\local\\programs\\python\\python311\\lib\\site-packages (from requests) (1.26.15)\n",
      "Requirement already satisfied: certifi>=2017.4.17 in c:\\users\\82104\\appdata\\local\\programs\\python\\python311\\lib\\site-packages (from requests) (2022.12.7)\n"
     ]
    },
    {
     "name": "stderr",
     "output_type": "stream",
     "text": [
      "\n",
      "[notice] A new release of pip available: 22.3.1 -> 23.0.1\n",
      "[notice] To update, run: python.exe -m pip install --upgrade pip\n"
     ]
    }
   ],
   "source": [
    "!pip install xmltodict\n",
    "!pip install requests\n",
    "import requests\n",
    "import xmltodict\n",
    "import pandas as pd\n",
    "from urllib import parse"
   ]
  },
  {
   "cell_type": "code",
   "execution_count": 10,
   "metadata": {},
   "outputs": [
    {
     "name": "stdout",
     "output_type": "stream",
     "text": [
      "b'<?xml version=\"1.0\" encoding=\"UTF-8\" standalone=\"yes\"?>\\n<response>\\n    <header>\\n        <resultCode>00</resultCode>\\n        <resultMsg>NORMAL SERVICE.</resultMsg>\\n    </header>\\n    <body>\\n        <numOfRows>10</numOfRows>\\n        <pageNo>1</pageNo>\\n        <totalCount>1</totalCount>\\n        <items>\\n            <item>\\n                <actnAudpnNm></actnAudpnNm>\\n                <audtRptOpnnCtt></audtRptOpnnCtt>\\n                <basDt>20200408</basDt>\\n                <bzno>1078708658</bzno>\\n                <corpRegMrktDcd>E</corpRegMrktDcd>\\n                <corpRegMrktDcdNm>\\xea\\xb8\\xb0\\xed\\x83\\x80</corpRegMrktDcdNm>\\n                <crno>1101113892240</crno>\\n                <empeAvgCnwkTermCtt></empeAvgCnwkTermCtt>\\n                <fncoAdr>\\xec\\x84\\x9c\\xec\\x9a\\xb8\\xed\\x8a\\xb9\\xeb\\xb3\\x84\\xec\\x8b\\x9c \\xec\\xa2\\x85\\xeb\\xa1\\x9c\\xea\\xb5\\xac \\xeb\\xb6\\x81\\xec\\xb4\\x8c\\xeb\\xa1\\x9c 104 \\xea\\xb3\\x84\\xeb\\x8f\\x99\\xeb\\xb9\\x8c\\xeb\\x94\\xa9</fncoAdr>\\n                <fncoEmpeAvgSlryAmt>0</fncoEmpeAvgSlryAmt>\\n                <fncoEmpeCnt>0</fncoEmpeCnt>\\n                <fncoEnsnNm>Meritz Asset Management</fncoEnsnNm>\\n                <fncoEstbDt>20080506</fncoEstbDt>\\n                <fncoFxno>02-6320-3009</fncoFxno>\\n                <fncoHmpgUrl></fncoHmpgUrl>\\n                <fncoKosdaqLstgAbolDt></fncoKosdaqLstgAbolDt>\\n                <fncoKosdaqLstgDt></fncoKosdaqLstgDt>\\n                <fncoKrxLstgAbolDt></fncoKrxLstgAbolDt>\\n                <fncoKrxLstgDt></fncoKrxLstgDt>\\n                <fncoMainBizNm></fncoMainBizNm>\\n                <fncoNm>\\xeb\\xa9\\x94\\xeb\\xa6\\xac\\xec\\xb8\\xa0\\xec\\x9e\\x90\\xec\\x82\\xb0\\xec\\x9a\\xb4\\xec\\x9a\\xa9</fncoNm>\\n                <fncoRprNm>John Lee(\\xec\\x9d\\xb4\\xec\\xa0\\x95\\xeb\\xb3\\xb5)</fncoRprNm>\\n                <fncoSmenpYn></fncoSmenpYn>\\n                <fncoStacMm>12</fncoStacMm>\\n                <fncoTlno>02-6320-3000</fncoTlno>\\n                <fncoXchgLstgAbolDt></fncoXchgLstgAbolDt>\\n                <fncoXchgLstgDt></fncoXchgLstgDt>\\n                <fncoZpcd>03051</fncoZpcd>\\n                <fssCorpChgDtm>2020/03/23</fssCorpChgDtm>\\n                <fssCorpUnqNo>00685935</fssCorpUnqNo>\\n                <isinCd></isinCd>\\n                <isinCdNm></isinCdNm>\\n                <mntrFcnFncoCd></mntrFcnFncoCd>\\n                <mntrFcnFncoCdNm></mntrFcnFncoCdNm>\\n                <sicCd></sicCd>\\n                <sicNm>64201</sicNm>\\n            </item>\\n        </items>\\n    </body>\\n</response>\\n'\n"
     ]
    }
   ],
   "source": [
    "url = 'http://apis.data.go.kr/1160100/service/GetFnCoBasiInfoService/getFnCoOutl'\n",
    "params ={'serviceKey' : 'bI/ODmNUW+t9t16zZbtimBIaKX/5x0TAK8w8Unl1K/16hQJ8k3SzPioigAqIcCdFGQ63PTj1nBBVnxPyq9ZPyQ==', 'pageNo' : '1', 'numOfRows' : '10', 'resultType' : 'xml', 'basDt' : '20200408', 'crno' : '1101113892240', 'fncoNm' : '메리츠자산운용' }\n",
    "\n",
    "response = requests.get(url, params=params)\n",
    "print(response.content)\n"
   ]
  },
  {
   "cell_type": "code",
   "execution_count": 12,
   "metadata": {},
   "outputs": [],
   "source": [
    "# xml 데이터를 dict 형태의 데이터로 변환 \n",
    "data = xmltodict.parse(response.content)"
   ]
  },
  {
   "cell_type": "code",
   "execution_count": 15,
   "metadata": {},
   "outputs": [
    {
     "data": {
      "text/plain": [
       "{'item': {'actnAudpnNm': None,\n",
       "  'audtRptOpnnCtt': None,\n",
       "  'basDt': '20200408',\n",
       "  'bzno': '1078708658',\n",
       "  'corpRegMrktDcd': 'E',\n",
       "  'corpRegMrktDcdNm': '기타',\n",
       "  'crno': '1101113892240',\n",
       "  'empeAvgCnwkTermCtt': None,\n",
       "  'fncoAdr': '서울특별시 종로구 북촌로 104 계동빌딩',\n",
       "  'fncoEmpeAvgSlryAmt': '0',\n",
       "  'fncoEmpeCnt': '0',\n",
       "  'fncoEnsnNm': 'Meritz Asset Management',\n",
       "  'fncoEstbDt': '20080506',\n",
       "  'fncoFxno': '02-6320-3009',\n",
       "  'fncoHmpgUrl': None,\n",
       "  'fncoKosdaqLstgAbolDt': None,\n",
       "  'fncoKosdaqLstgDt': None,\n",
       "  'fncoKrxLstgAbolDt': None,\n",
       "  'fncoKrxLstgDt': None,\n",
       "  'fncoMainBizNm': None,\n",
       "  'fncoNm': '메리츠자산운용',\n",
       "  'fncoRprNm': 'John Lee(이정복)',\n",
       "  'fncoSmenpYn': None,\n",
       "  'fncoStacMm': '12',\n",
       "  'fncoTlno': '02-6320-3000',\n",
       "  'fncoXchgLstgAbolDt': None,\n",
       "  'fncoXchgLstgDt': None,\n",
       "  'fncoZpcd': '03051',\n",
       "  'fssCorpChgDtm': '2020/03/23',\n",
       "  'fssCorpUnqNo': '00685935',\n",
       "  'isinCd': None,\n",
       "  'isinCdNm': None,\n",
       "  'mntrFcnFncoCd': None,\n",
       "  'mntrFcnFncoCdNm': None,\n",
       "  'sicCd': None,\n",
       "  'sicNm': '64201'}}"
      ]
     },
     "execution_count": 15,
     "metadata": {},
     "output_type": "execute_result"
    }
   ],
   "source": []
  }
 ],
 "metadata": {
  "kernelspec": {
   "display_name": "Python 3",
   "language": "python",
   "name": "python3"
  },
  "language_info": {
   "codemirror_mode": {
    "name": "ipython",
    "version": 3
   },
   "file_extension": ".py",
   "mimetype": "text/x-python",
   "name": "python",
   "nbconvert_exporter": "python",
   "pygments_lexer": "ipython3",
   "version": "3.11.2"
  },
  "orig_nbformat": 4
 },
 "nbformat": 4,
 "nbformat_minor": 2
}
