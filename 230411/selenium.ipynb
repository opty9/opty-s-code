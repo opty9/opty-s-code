{
 "cells": [
  {
   "attachments": {},
   "cell_type": "markdown",
   "metadata": {},
   "source": [
    "#selenium 라이브러리\n",
    "1. 웹 어플리케이션 테스트를 위한 라이브러리\n",
    "2. python에서 웹브라우저를 제어하는 기능 \n",
    "3. 웹드라이버를 별도 설치"
   ]
  },
  {
   "cell_type": "code",
   "execution_count": 71,
   "metadata": {},
   "outputs": [
    {
     "name": "stdout",
     "output_type": "stream",
     "text": [
      "Requirement already satisfied: selenium in c:\\users\\82104\\appdata\\local\\programs\\python\\python311\\lib\\site-packages (4.8.3)\n",
      "Requirement already satisfied: urllib3[socks]~=1.26 in c:\\users\\82104\\appdata\\local\\programs\\python\\python311\\lib\\site-packages (from selenium) (1.26.15)\n",
      "Requirement already satisfied: trio~=0.17 in c:\\users\\82104\\appdata\\local\\programs\\python\\python311\\lib\\site-packages (from selenium) (0.22.0)\n",
      "Requirement already satisfied: trio-websocket~=0.9 in c:\\users\\82104\\appdata\\local\\programs\\python\\python311\\lib\\site-packages (from selenium) (0.10.2)\n",
      "Requirement already satisfied: certifi>=2021.10.8 in c:\\users\\82104\\appdata\\local\\programs\\python\\python311\\lib\\site-packages (from selenium) (2022.12.7)\n",
      "Requirement already satisfied: attrs>=19.2.0 in c:\\users\\82104\\appdata\\local\\programs\\python\\python311\\lib\\site-packages (from trio~=0.17->selenium) (22.2.0)\n",
      "Requirement already satisfied: sortedcontainers in c:\\users\\82104\\appdata\\local\\programs\\python\\python311\\lib\\site-packages (from trio~=0.17->selenium) (2.4.0)\n",
      "Requirement already satisfied: async-generator>=1.9 in c:\\users\\82104\\appdata\\local\\programs\\python\\python311\\lib\\site-packages (from trio~=0.17->selenium) (1.10)\n",
      "Requirement already satisfied: idna in c:\\users\\82104\\appdata\\local\\programs\\python\\python311\\lib\\site-packages (from trio~=0.17->selenium) (3.4)\n",
      "Requirement already satisfied: outcome in c:\\users\\82104\\appdata\\local\\programs\\python\\python311\\lib\\site-packages (from trio~=0.17->selenium) (1.2.0)\n",
      "Requirement already satisfied: sniffio in c:\\users\\82104\\appdata\\local\\programs\\python\\python311\\lib\\site-packages (from trio~=0.17->selenium) (1.3.0)\n",
      "Requirement already satisfied: cffi>=1.14 in c:\\users\\82104\\appdata\\local\\programs\\python\\python311\\lib\\site-packages (from trio~=0.17->selenium) (1.15.1)\n",
      "Requirement already satisfied: exceptiongroup in c:\\users\\82104\\appdata\\local\\programs\\python\\python311\\lib\\site-packages (from trio-websocket~=0.9->selenium) (1.1.1)\n",
      "Requirement already satisfied: wsproto>=0.14 in c:\\users\\82104\\appdata\\local\\programs\\python\\python311\\lib\\site-packages (from trio-websocket~=0.9->selenium) (1.2.0)\n",
      "Requirement already satisfied: PySocks!=1.5.7,<2.0,>=1.5.6 in c:\\users\\82104\\appdata\\local\\programs\\python\\python311\\lib\\site-packages (from urllib3[socks]~=1.26->selenium) (1.7.1)\n",
      "Requirement already satisfied: pycparser in c:\\users\\82104\\appdata\\local\\programs\\python\\python311\\lib\\site-packages (from cffi>=1.14->trio~=0.17->selenium) (2.21)\n",
      "Requirement already satisfied: h11<1,>=0.9.0 in c:\\users\\82104\\appdata\\local\\programs\\python\\python311\\lib\\site-packages (from wsproto>=0.14->trio-websocket~=0.9->selenium) (0.14.0)\n",
      "Note: you may need to restart the kernel to use updated packages.\n"
     ]
    },
    {
     "name": "stderr",
     "output_type": "stream",
     "text": [
      "\n",
      "[notice] A new release of pip available: 22.3.1 -> 23.0.1\n",
      "[notice] To update, run: python.exe -m pip install --upgrade pip\n"
     ]
    }
   ],
   "source": [
    "# 라이브러리 설치\n",
    "%pip install selenium"
   ]
  },
  {
   "cell_type": "code",
   "execution_count": 72,
   "metadata": {},
   "outputs": [],
   "source": [
    "# 라이브러리 로드 \n",
    "from selenium import webdriver"
   ]
  },
  {
   "cell_type": "code",
   "execution_count": 73,
   "metadata": {},
   "outputs": [],
   "source": [
    "# 웹드라이버 파일의 위치 지정\n",
    "path = \"../chromedriver.exe\""
   ]
  },
  {
   "cell_type": "code",
   "execution_count": 74,
   "metadata": {},
   "outputs": [
    {
     "name": "stderr",
     "output_type": "stream",
     "text": [
      "C:\\Users\\82104\\AppData\\Local\\Temp\\ipykernel_24604\\1474807558.py:2: DeprecationWarning: executable_path has been deprecated, please pass in a Service object\n",
      "  driver = webdriver.Chrome(path)\n"
     ]
    }
   ],
   "source": [
    "# 웹드라이버 실행\n",
    "driver = webdriver.Chrome(path)"
   ]
  },
  {
   "cell_type": "code",
   "execution_count": 75,
   "metadata": {},
   "outputs": [],
   "source": [
    "# 웹 주소창에 값을 입력\n",
    "driver.get('https://www.naver.com')"
   ]
  },
  {
   "cell_type": "code",
   "execution_count": 76,
   "metadata": {},
   "outputs": [],
   "source": [
    "from selenium.webdriver.common.by import By\n",
    "from selenium.webdriver.common.keys import Keys"
   ]
  },
  {
   "cell_type": "code",
   "execution_count": 77,
   "metadata": {},
   "outputs": [],
   "source": [
    "# # 검색어창 지정 \n",
    "# element = driver.find_element(By.ID, 'query')"
   ]
  },
  {
   "cell_type": "code",
   "execution_count": 78,
   "metadata": {},
   "outputs": [],
   "source": [
    "# # element에 입력할 값을 지정\n",
    "# element.send_keys(\"날씨\")"
   ]
  },
  {
   "cell_type": "code",
   "execution_count": 79,
   "metadata": {},
   "outputs": [],
   "source": [
    "# #엔터키를 누른다를 코딩\n",
    "# element.send_keys(Keys.ENTER)"
   ]
  },
  {
   "cell_type": "code",
   "execution_count": 80,
   "metadata": {},
   "outputs": [],
   "source": [
    "from bs4 import BeautifulSoup as bs "
   ]
  },
  {
   "cell_type": "code",
   "execution_count": 81,
   "metadata": {},
   "outputs": [],
   "source": [
    "soup = bs(driver.page_source, 'html.parser')"
   ]
  },
  {
   "cell_type": "code",
   "execution_count": 82,
   "metadata": {},
   "outputs": [],
   "source": [
    "# data = soup.find('ul', attrs={\n",
    "#                  'class' : 'list_news'\n",
    "# })\n",
    "# data"
   ]
  },
  {
   "cell_type": "code",
   "execution_count": 83,
   "metadata": {},
   "outputs": [],
   "source": [
    "# _list = data.find_all('a', attrs={\n",
    "#     'class' : 'news_tit'\n",
    "# })"
   ]
  },
  {
   "cell_type": "code",
   "execution_count": 84,
   "metadata": {},
   "outputs": [],
   "source": [
    "# result = []\n",
    "# for i in _list:\n",
    "#     result.append(i.get_text())\n",
    "    \n",
    "# result"
   ]
  },
  {
   "cell_type": "code",
   "execution_count": 85,
   "metadata": {},
   "outputs": [
    {
     "name": "stderr",
     "output_type": "stream",
     "text": [
      "C:\\Users\\82104\\AppData\\Local\\Temp\\ipykernel_24604\\2456429498.py:1: DeprecationWarning: executable_path has been deprecated, please pass in a Service object\n",
      "  driver = webdriver.Chrome(path)\n"
     ]
    }
   ],
   "source": [
    "driver = webdriver.Chrome(path)\n",
    "code = '005380'\n",
    "driver.get(\"https://navercomp.wisereport.co.kr/v2/company/c1010001.aspx?cmp_cd=\" + code)\n"
   ]
  },
  {
   "cell_type": "code",
   "execution_count": 86,
   "metadata": {},
   "outputs": [
    {
     "name": "stdout",
     "output_type": "stream",
     "text": [
      "<selenium.webdriver.remote.webelement.WebElement (session=\"b67507af831e418e8ad1d0c7dfee0653\", element=\"170ef34e-4153-4add-b1a6-4f01e8b08bae\")>\n"
     ]
    }
   ],
   "source": [
    "element = driver.find_element(By.CLASS_NAME, 'menu')\n",
    "print(element)\n"
   ]
  },
  {
   "cell_type": "code",
   "execution_count": 87,
   "metadata": {},
   "outputs": [],
   "source": [
    "element2 = element.find_elements(By.TAG_NAME, 'a')[3]\n",
    "element2.click()\n"
   ]
  },
  {
   "cell_type": "code",
   "execution_count": 88,
   "metadata": {},
   "outputs": [],
   "source": [
    "soup = bs(driver.page_source, 'html.parser')"
   ]
  },
  {
   "cell_type": "code",
   "execution_count": 89,
   "metadata": {},
   "outputs": [],
   "source": [
    "data = soup.find_all('table', attrs={\n",
    "    'class' : 'gHead01 all-width data-list'\n",
    "})[1]"
   ]
  },
  {
   "cell_type": "code",
   "execution_count": 90,
   "metadata": {},
   "outputs": [],
   "source": [
    "# 컬럼 부분에 들어갈 값을 추출\n",
    "_list = data.find_all('th')"
   ]
  },
  {
   "cell_type": "code",
   "execution_count": 91,
   "metadata": {},
   "outputs": [
    {
     "data": {
      "text/plain": [
       "['항목',\n",
       " '\\n2018/12(IFRS연결)\\n',\n",
       " '\\n2019/12(IFRS연결)\\n',\n",
       " '\\n2020/12(IFRS연결)\\n',\n",
       " '\\n2021/12(IFRS연결)\\n',\n",
       " '\\n2022/12(IFRS연결)\\n\\t\\t\\t\\t\\t\\t\\t\\t\\t\\t\\t\\t\\t\\n\\t\\t\\t\\t\\t\\t\\t\\t\\t\\t\\t\\t\\t연간컨센서스보기\\n\\n',\n",
       " '\\n2023/12(E)(IFRS연결)\\n\\t\\t\\t\\t\\t\\t\\t\\t\\t\\t\\t\\t\\t\\n\\t\\t\\t\\t\\t\\t\\t\\t\\t\\t\\t\\t\\t연간컨센서스닫기\\n\\n',\n",
       " '\\n전년대비(YoY)\\n',\n",
       " '\\n전년대비(YoY)\\n']"
      ]
     },
     "execution_count": 91,
     "metadata": {},
     "output_type": "execute_result"
    }
   ],
   "source": [
    "col_list = []\n",
    "for i in _list:\n",
    "    col_list.append(i.get_text())\n",
    "col_list"
   ]
  },
  {
   "cell_type": "code",
   "execution_count": 92,
   "metadata": {},
   "outputs": [],
   "source": [
    "# value 값을 추출\n",
    "data2 = data.find('tbody')"
   ]
  },
  {
   "cell_type": "code",
   "execution_count": 93,
   "metadata": {},
   "outputs": [],
   "source": [
    "data3 = data2.find_all('tr')"
   ]
  },
  {
   "cell_type": "code",
   "execution_count": 94,
   "metadata": {},
   "outputs": [
    {
     "data": {
      "text/plain": [
       "[['\\n\\n펼치기\\n\\t\\t\\t\\t\\t\\t\\t\\t\\t\\t\\t\\t\\t\\t\\n\\t\\t\\t\\t\\t\\t\\t\\t\\t\\t\\t\\tEPS\\n\\t\\t\\t\\t\\t\\t\\t\\t\\t\\t\\t\\t\\t\\n',\n",
       "  '5,352',\n",
       "  '10,761',\n",
       "  '5,143',\n",
       "  '17,846',\n",
       "  '26,592',\n",
       "  '31,707',\n",
       "  '49',\n",
       "  '19'],\n",
       " ['\\n\\n\\xa0\\n\\t\\t\\t\\t\\t\\t\\t\\t\\t\\t\\t\\t\\t\\t\\n\\t\\t\\t\\t\\t\\t\\t\\t\\t\\t\\t\\t당기순이익(지배)＜당기＞\\n\\t\\t\\t\\t\\t\\t\\t\\t\\t\\t\\t\\t\\t\\n',\n",
       "  '15,080.8',\n",
       "  '29,800.5',\n",
       "  '14,244.4',\n",
       "  '49,423.6',\n",
       "  '73,643.6',\n",
       "  '87,009.1',\n",
       "  '\\xa0',\n",
       "  '\\xa0'],\n",
       " ['\\n\\n\\xa0\\n\\t\\t\\t\\t\\t\\t\\t\\t\\t\\t\\t\\t\\t\\t\\n\\t\\t\\t\\t\\t\\t\\t\\t\\t\\t\\t\\t보통주수정평균발행주식수＜당기＞\\n\\t\\t\\t\\t\\t\\t\\t\\t\\t\\t\\t\\t\\t\\n',\n",
       "  '217,415,903',\n",
       "  '213,668,187',\n",
       "  '213,668,187',\n",
       "  '213,668,187',\n",
       "  '213,668,187',\n",
       "  '211,724,685',\n",
       "  '\\xa0',\n",
       "  '\\xa0'],\n",
       " ['\\n\\n\\xa0\\n\\t\\t\\t\\t\\t\\t\\t\\t\\t\\t\\t\\t\\t\\t\\n\\t\\t\\t\\t\\t\\t\\t\\t\\t\\t\\t\\t우선주수정평균발행주식수＜당기＞\\n\\t\\t\\t\\t\\t\\t\\t\\t\\t\\t\\t\\t\\t\\n',\n",
       "  '64,366,142',\n",
       "  '63,270,871',\n",
       "  '63,270,871',\n",
       "  '63,270,871',\n",
       "  '63,270,871',\n",
       "  '62,695,368',\n",
       "  '\\xa0',\n",
       "  '\\xa0'],\n",
       " ['\\n\\n펼치기\\n\\t\\t\\t\\t\\t\\t\\t\\t\\t\\t\\t\\t\\t\\t\\n\\t\\t\\t\\t\\t\\t\\t\\t\\t\\t\\t\\tBPS\\n\\t\\t\\t\\t\\t\\t\\t\\t\\t\\t\\t\\t\\t\\n',\n",
       "  '256,422',\n",
       "  '267,549',\n",
       "  '266,968',\n",
       "  '289,609',\n",
       "  '315,142',\n",
       "  '347,220',\n",
       "  '9',\n",
       "  '10'],\n",
       " ['\\n\\n\\xa0\\n\\t\\t\\t\\t\\t\\t\\t\\t\\t\\t\\t\\t\\t\\t\\n\\t\\t\\t\\t\\t\\t\\t\\t\\t\\t\\t\\t자본총계(지배)＜당기＞\\n\\t\\t\\t\\t\\t\\t\\t\\t\\t\\t\\t\\t\\t\\n',\n",
       "  '679,739.7',\n",
       "  '700,658.0',\n",
       "  '694,806.3',\n",
       "  '749,861.2',\n",
       "  '823,492.9',\n",
       "  '909,438.6',\n",
       "  '\\xa0',\n",
       "  '\\xa0'],\n",
       " ['\\n\\n\\xa0\\n\\t\\t\\t\\t\\t\\t\\t\\t\\t\\t\\t\\t\\t\\t\\n\\t\\t\\t\\t\\t\\t\\t\\t\\t\\t\\t\\t보통주수정기말발행주식수(자사주차감)＜당기＞\\n\\t\\t\\t\\t\\t\\t\\t\\t\\t\\t\\t\\t\\t\\n',\n",
       "  '204,280,606',\n",
       "  '201,833,036',\n",
       "  '200,576,769',\n",
       "  '199,619,945',\n",
       "  '202,259,476',\n",
       "  '202,870,846',\n",
       "  '\\xa0',\n",
       "  '\\xa0'],\n",
       " ['\\n\\n\\xa0\\n\\t\\t\\t\\t\\t\\t\\t\\t\\t\\t\\t\\t\\t\\t\\n\\t\\t\\t\\t\\t\\t\\t\\t\\t\\t\\t\\t우선주수정기말발행주식수(자사주차감)＜당기＞\\n\\t\\t\\t\\t\\t\\t\\t\\t\\t\\t\\t\\t\\t\\n',\n",
       "  '60,805,434',\n",
       "  '60,047,227',\n",
       "  '59,681,734',\n",
       "  '59,302,110',\n",
       "  '59,049,027',\n",
       "  '59,049,027',\n",
       "  '\\xa0',\n",
       "  '\\xa0'],\n",
       " ['\\n\\n펼치기\\n\\t\\t\\t\\t\\t\\t\\t\\t\\t\\t\\t\\t\\t\\t\\n\\t\\t\\t\\t\\t\\t\\t\\t\\t\\t\\t\\tCPS\\n\\t\\t\\t\\t\\t\\t\\t\\t\\t\\t\\t\\t\\t\\n',\n",
       "  '13,359',\n",
       "  '1,516',\n",
       "  '-1,480',\n",
       "  '-4,248',\n",
       "  '38,374',\n",
       "  '52,979',\n",
       "  '1,003',\n",
       "  '38'],\n",
       " ['\\n\\n\\xa0\\n\\t\\t\\t\\t\\t\\t\\t\\t\\t\\t\\t\\t\\t\\t\\n\\t\\t\\t\\t\\t\\t\\t\\t\\t\\t\\t\\t영업활동현금흐름＜당기＞\\n\\t\\t\\t\\t\\t\\t\\t\\t\\t\\t\\t\\t\\t\\n',\n",
       "  '37,642.7',\n",
       "  '4,197.8',\n",
       "  '-4,098.1',\n",
       "  '-11,764.2',\n",
       "  '106,273.1',\n",
       "  '136,265.8',\n",
       "  '\\xa0',\n",
       "  '\\xa0'],\n",
       " ['\\n\\n\\xa0\\n\\t\\t\\t\\t\\t\\t\\t\\t\\t\\t\\t\\t\\t\\t\\n\\t\\t\\t\\t\\t\\t\\t\\t\\t\\t\\t\\t보통주수정평균발행주식수＜당기＞\\n\\t\\t\\t\\t\\t\\t\\t\\t\\t\\t\\t\\t\\t\\n',\n",
       "  '217,415,903',\n",
       "  '213,668,187',\n",
       "  '213,668,187',\n",
       "  '213,668,187',\n",
       "  '213,668,187',\n",
       "  '211,724,685',\n",
       "  '\\xa0',\n",
       "  '\\xa0'],\n",
       " ['\\n\\n\\xa0\\n\\t\\t\\t\\t\\t\\t\\t\\t\\t\\t\\t\\t\\t\\t\\n\\t\\t\\t\\t\\t\\t\\t\\t\\t\\t\\t\\t우선주수정평균발행주식수＜당기＞\\n\\t\\t\\t\\t\\t\\t\\t\\t\\t\\t\\t\\t\\t\\n',\n",
       "  '64,366,142',\n",
       "  '63,270,871',\n",
       "  '63,270,871',\n",
       "  '63,270,871',\n",
       "  '63,270,871',\n",
       "  '62,695,368',\n",
       "  '\\xa0',\n",
       "  '\\xa0'],\n",
       " ['\\n\\n펼치기\\n\\t\\t\\t\\t\\t\\t\\t\\t\\t\\t\\t\\t\\t\\t\\n\\t\\t\\t\\t\\t\\t\\t\\t\\t\\t\\t\\tSPS\\n\\t\\t\\t\\t\\t\\t\\t\\t\\t\\t\\t\\t\\t\\n',\n",
       "  '343,573',\n",
       "  '381,840',\n",
       "  '375,525',\n",
       "  '424,681',\n",
       "  '514,653',\n",
       "  '547,878',\n",
       "  '21',\n",
       "  '6'],\n",
       " ['\\n\\n\\xa0\\n\\t\\t\\t\\t\\t\\t\\t\\t\\t\\t\\t\\t\\t\\t\\n\\t\\t\\t\\t\\t\\t\\t\\t\\t\\t\\t\\t매출액＜당기＞\\n\\t\\t\\t\\t\\t\\t\\t\\t\\t\\t\\t\\t\\t\\n',\n",
       "  '968,126.1',\n",
       "  '1,057,464.2',\n",
       "  '1,039,976.0',\n",
       "  '1,176,106.3',\n",
       "  '1,425,275.4',\n",
       "  '1,503,487.4',\n",
       "  '\\xa0',\n",
       "  '\\xa0'],\n",
       " ['\\n\\n\\xa0\\n\\t\\t\\t\\t\\t\\t\\t\\t\\t\\t\\t\\t\\t\\t\\n\\t\\t\\t\\t\\t\\t\\t\\t\\t\\t\\t\\t보통주수정평균발행주식수＜당기＞\\n\\t\\t\\t\\t\\t\\t\\t\\t\\t\\t\\t\\t\\t\\n',\n",
       "  '217,415,903',\n",
       "  '213,668,187',\n",
       "  '213,668,187',\n",
       "  '213,668,187',\n",
       "  '213,668,187',\n",
       "  '211,724,685',\n",
       "  '\\xa0',\n",
       "  '\\xa0'],\n",
       " ['\\n\\n\\xa0\\n\\t\\t\\t\\t\\t\\t\\t\\t\\t\\t\\t\\t\\t\\t\\n\\t\\t\\t\\t\\t\\t\\t\\t\\t\\t\\t\\t우선주수정평균발행주식수＜당기＞\\n\\t\\t\\t\\t\\t\\t\\t\\t\\t\\t\\t\\t\\t\\n',\n",
       "  '64,366,142',\n",
       "  '63,270,871',\n",
       "  '63,270,871',\n",
       "  '63,270,871',\n",
       "  '63,270,871',\n",
       "  '62,695,368',\n",
       "  '\\xa0',\n",
       "  '\\xa0'],\n",
       " ['\\n\\n펼치기\\n\\t\\t\\t\\t\\t\\t\\t\\t\\t\\t\\t\\t\\t\\t\\n\\t\\t\\t\\t\\t\\t\\t\\t\\t\\t\\t\\tPER\\n\\t\\t\\t\\t\\t\\t\\t\\t\\t\\t\\t\\t\\t\\n',\n",
       "  '22.14',\n",
       "  '11.20',\n",
       "  '37.33',\n",
       "  '11.71',\n",
       "  '5.68',\n",
       "  '5.86',\n",
       "  '-51.51',\n",
       "  '3.25'],\n",
       " ['\\n\\n\\xa0\\n\\t\\t\\t\\t\\t\\t\\t\\t\\t\\t\\t\\t\\t\\t\\n\\t\\t\\t\\t\\t\\t\\t\\t\\t\\t\\t\\t보통주수정주가(기말)＜당기＞\\n\\t\\t\\t\\t\\t\\t\\t\\t\\t\\t\\t\\t\\t\\n',\n",
       "  '118,500',\n",
       "  '120,500',\n",
       "  '192,000',\n",
       "  '209,000',\n",
       "  '151,000',\n",
       "  '185,900',\n",
       "  '\\xa0',\n",
       "  '\\xa0'],\n",
       " ['\\n\\n\\xa0\\n\\t\\t\\t\\t\\t\\t\\t\\t\\t\\t\\t\\t\\t\\t\\n\\t\\t\\t\\t\\t\\t\\t\\t\\t\\t\\t\\tEPS＜당기＞\\n\\t\\t\\t\\t\\t\\t\\t\\t\\t\\t\\t\\t\\t\\n',\n",
       "  '5,352',\n",
       "  '10,761',\n",
       "  '5,143',\n",
       "  '17,846',\n",
       "  '26,592',\n",
       "  '31,707',\n",
       "  '\\xa0',\n",
       "  '\\xa0'],\n",
       " ['\\n\\n펼치기\\n\\t\\t\\t\\t\\t\\t\\t\\t\\t\\t\\t\\t\\t\\t\\n\\t\\t\\t\\t\\t\\t\\t\\t\\t\\t\\t\\tPBR\\n\\t\\t\\t\\t\\t\\t\\t\\t\\t\\t\\t\\t\\t\\n',\n",
       "  '0.46',\n",
       "  '0.45',\n",
       "  '0.72',\n",
       "  '0.72',\n",
       "  '0.48',\n",
       "  '0.54',\n",
       "  '-33.60',\n",
       "  '11.74'],\n",
       " ['\\n\\n\\xa0\\n\\t\\t\\t\\t\\t\\t\\t\\t\\t\\t\\t\\t\\t\\t\\n\\t\\t\\t\\t\\t\\t\\t\\t\\t\\t\\t\\t보통주수정주가(기말)＜당기＞\\n\\t\\t\\t\\t\\t\\t\\t\\t\\t\\t\\t\\t\\t\\n',\n",
       "  '118,500',\n",
       "  '120,500',\n",
       "  '192,000',\n",
       "  '209,000',\n",
       "  '151,000',\n",
       "  '185,900',\n",
       "  '\\xa0',\n",
       "  '\\xa0'],\n",
       " ['\\n\\n\\xa0\\n\\t\\t\\t\\t\\t\\t\\t\\t\\t\\t\\t\\t\\t\\t\\n\\t\\t\\t\\t\\t\\t\\t\\t\\t\\t\\t\\tBPS＜당기＞\\n\\t\\t\\t\\t\\t\\t\\t\\t\\t\\t\\t\\t\\t\\n',\n",
       "  '256,422',\n",
       "  '267,549',\n",
       "  '266,968',\n",
       "  '289,609',\n",
       "  '315,142',\n",
       "  '347,220',\n",
       "  '\\xa0',\n",
       "  '\\xa0'],\n",
       " ['\\n\\n펼치기\\n\\t\\t\\t\\t\\t\\t\\t\\t\\t\\t\\t\\t\\t\\t\\n\\t\\t\\t\\t\\t\\t\\t\\t\\t\\t\\t\\tPCR\\n\\t\\t\\t\\t\\t\\t\\t\\t\\t\\t\\t\\t\\t\\n',\n",
       "  '8.87',\n",
       "  '79.50',\n",
       "  '-129.75',\n",
       "  '-49.20',\n",
       "  '3.93',\n",
       "  '3.51',\n",
       "  '108.00',\n",
       "  '-10.83'],\n",
       " ['\\n\\n\\xa0\\n\\t\\t\\t\\t\\t\\t\\t\\t\\t\\t\\t\\t\\t\\t\\n\\t\\t\\t\\t\\t\\t\\t\\t\\t\\t\\t\\t보통주수정주가(기말)＜당기＞\\n\\t\\t\\t\\t\\t\\t\\t\\t\\t\\t\\t\\t\\t\\n',\n",
       "  '118,500',\n",
       "  '120,500',\n",
       "  '192,000',\n",
       "  '209,000',\n",
       "  '151,000',\n",
       "  '185,900',\n",
       "  '\\xa0',\n",
       "  '\\xa0'],\n",
       " ['\\n\\n\\xa0\\n\\t\\t\\t\\t\\t\\t\\t\\t\\t\\t\\t\\t\\t\\t\\n\\t\\t\\t\\t\\t\\t\\t\\t\\t\\t\\t\\tCPS＜당기＞\\n\\t\\t\\t\\t\\t\\t\\t\\t\\t\\t\\t\\t\\t\\n',\n",
       "  '13,359',\n",
       "  '1,516',\n",
       "  '-1,480',\n",
       "  '-4,248',\n",
       "  '38,374',\n",
       "  '52,979',\n",
       "  '\\xa0',\n",
       "  '\\xa0'],\n",
       " ['\\n\\n펼치기\\n\\t\\t\\t\\t\\t\\t\\t\\t\\t\\t\\t\\t\\t\\t\\n\\t\\t\\t\\t\\t\\t\\t\\t\\t\\t\\t\\tPSR\\n\\t\\t\\t\\t\\t\\t\\t\\t\\t\\t\\t\\t\\t\\n',\n",
       "  '0.34',\n",
       "  '0.32',\n",
       "  '0.51',\n",
       "  '0.49',\n",
       "  '0.29',\n",
       "  '0.34',\n",
       "  '-40.38',\n",
       "  '15.65'],\n",
       " ['\\n\\n\\xa0\\n\\t\\t\\t\\t\\t\\t\\t\\t\\t\\t\\t\\t\\t\\t\\n\\t\\t\\t\\t\\t\\t\\t\\t\\t\\t\\t\\t보통주수정주가(기말)＜당기＞\\n\\t\\t\\t\\t\\t\\t\\t\\t\\t\\t\\t\\t\\t\\n',\n",
       "  '118,500',\n",
       "  '120,500',\n",
       "  '192,000',\n",
       "  '209,000',\n",
       "  '151,000',\n",
       "  '185,900',\n",
       "  '\\xa0',\n",
       "  '\\xa0'],\n",
       " ['\\n\\n\\xa0\\n\\t\\t\\t\\t\\t\\t\\t\\t\\t\\t\\t\\t\\t\\t\\n\\t\\t\\t\\t\\t\\t\\t\\t\\t\\t\\t\\tSPS＜당기＞\\n\\t\\t\\t\\t\\t\\t\\t\\t\\t\\t\\t\\t\\t\\n',\n",
       "  '343,573',\n",
       "  '381,840',\n",
       "  '375,525',\n",
       "  '424,681',\n",
       "  '514,653',\n",
       "  '547,878',\n",
       "  '\\xa0',\n",
       "  '\\xa0'],\n",
       " ['\\n\\n펼치기\\n\\t\\t\\t\\t\\t\\t\\t\\t\\t\\t\\t\\t\\t\\t\\n\\t\\t\\t\\t\\t\\t\\t\\t\\t\\t\\t\\tEV/EBITDA\\n\\t\\t\\t\\t\\t\\t\\t\\t\\t\\t\\t\\t\\t\\n',\n",
       "  '12.37',\n",
       "  '11.75',\n",
       "  '16.57',\n",
       "  '11.37',\n",
       "  '7.96',\n",
       "  '7.87',\n",
       "  '-30.00',\n",
       "  '-1.17'],\n",
       " ['\\n\\n\\xa0\\n\\t\\t\\t\\t\\t\\t\\t\\t\\t\\t\\t\\t\\t\\t\\n\\t\\t\\t\\t\\t\\t\\t\\t\\t\\t\\t\\tEV＜당기＞\\n\\t\\t\\t\\t\\t\\t\\t\\t\\t\\t\\t\\t\\t\\n',\n",
       "  '765,044.6',\n",
       "  '873,635.9',\n",
       "  '1,090,036.7',\n",
       "  '1,277,281.6',\n",
       "  '1,183,246.9',\n",
       "  '1,246,554.0',\n",
       "  '\\xa0',\n",
       "  '\\xa0'],\n",
       " ['\\n\\n\\xa0\\n\\t\\t\\t\\t\\t\\t\\t\\t\\t\\t\\t\\t\\t\\t\\n\\t\\t\\t\\t\\t\\t\\t\\t\\t\\t\\t\\tEBITDA＜당기＞\\n\\t\\t\\t\\t\\t\\t\\t\\t\\t\\t\\t\\t\\t\\n',\n",
       "  '61,836.3',\n",
       "  '74,373.8',\n",
       "  '65,800.4',\n",
       "  '112,346.9',\n",
       "  '148,673.9',\n",
       "  '158,484.6',\n",
       "  '\\xa0',\n",
       "  '\\xa0'],\n",
       " ['\\n\\n펼치기\\n\\t\\t\\t\\t\\t\\t\\t\\t\\t\\t\\t\\t\\t\\t\\n\\t\\t\\t\\t\\t\\t\\t\\t\\t\\t\\t\\tDPS\\n\\t\\t\\t\\t\\t\\t\\t\\t\\t\\t\\t\\t\\t\\n',\n",
       "  '4,000',\n",
       "  '4,000',\n",
       "  '3,000',\n",
       "  '5,000',\n",
       "  '7,000',\n",
       "  '',\n",
       "  '40',\n",
       "  '\\xa0'],\n",
       " ['\\n\\n\\xa0\\n\\t\\t\\t\\t\\t\\t\\t\\t\\t\\t\\t\\t\\t\\t\\n\\t\\t\\t\\t\\t\\t\\t\\t\\t\\t\\t\\t현금DPS\\n\\t\\t\\t\\t\\t\\t\\t\\t\\t\\t\\t\\t\\t\\n',\n",
       "  '4,000',\n",
       "  '4,000',\n",
       "  '3,000',\n",
       "  '5,000',\n",
       "  '7,000',\n",
       "  '',\n",
       "  '\\xa0',\n",
       "  '\\xa0'],\n",
       " ['\\n\\n\\xa0\\n\\t\\t\\t\\t\\t\\t\\t\\t\\t\\t\\t\\t\\t\\t\\n\\t\\t\\t\\t\\t\\t\\t\\t\\t\\t\\t\\t주식DPS\\n\\t\\t\\t\\t\\t\\t\\t\\t\\t\\t\\t\\t\\t\\n',\n",
       "  '0',\n",
       "  '0',\n",
       "  '0',\n",
       "  '0',\n",
       "  '',\n",
       "  '',\n",
       "  '\\xa0',\n",
       "  '\\xa0'],\n",
       " ['\\n\\n\\xa0\\n\\t\\t\\t\\t\\t\\t\\t\\t\\t\\t\\t\\t\\t\\t\\n\\t\\t\\t\\t\\t\\t\\t\\t\\t\\t\\t\\t현금배당수익률\\n\\t\\t\\t\\t\\t\\t\\t\\t\\t\\t\\t\\t\\t\\n',\n",
       "  '3.38',\n",
       "  '3.32',\n",
       "  '1.56',\n",
       "  '2.39',\n",
       "  '4.64',\n",
       "  '3.71',\n",
       "  '2.24',\n",
       "  '-0.93'],\n",
       " ['\\n\\n\\xa0\\n\\t\\t\\t\\t\\t\\t\\t\\t\\t\\t\\t\\t\\t\\t\\n\\t\\t\\t\\t\\t\\t\\t\\t\\t\\t\\t\\t현금배당성향(%)\\n\\t\\t\\t\\t\\t\\t\\t\\t\\t\\t\\t\\t\\t\\n',\n",
       "  '70.70',\n",
       "  '35.35',\n",
       "  '55.15',\n",
       "  '26.32',\n",
       "  '24.85',\n",
       "  '16.76',\n",
       "  '-1.46',\n",
       "  '-8.10']]"
      ]
     },
     "execution_count": 94,
     "metadata": {},
     "output_type": "execute_result"
    }
   ],
   "source": [
    "value_list = []\n",
    "\n",
    "for i in data3:\n",
    "    sample_list = []\n",
    "    _list = i.find_all('td')\n",
    "    for j in _list:\n",
    "        sample_list.append(j.get_text())\n",
    "    value_list.append(sample_list)\n",
    "\n",
    "value_list"
   ]
  },
  {
   "cell_type": "code",
   "execution_count": 95,
   "metadata": {},
   "outputs": [
    {
     "data": {
      "text/plain": [
       "['항목',\n",
       " '2018/12(IFRS연결)',\n",
       " '2019/12(IFRS연결)',\n",
       " '2020/12(IFRS연결)',\n",
       " '2021/12(IFRS연결)',\n",
       " '2022/12(IFRS연결)',\n",
       " '2023/12(E)(IFRS연결)',\n",
       " '전년대비(YoY)',\n",
       " '전년대비(YoY)']"
      ]
     },
     "execution_count": 95,
     "metadata": {},
     "output_type": "execute_result"
    }
   ],
   "source": [
    "col = []\n",
    "for i in col_list:\n",
    "    result = i.replace('\\n', \"\")\n",
    "    result = result.replace(\"연간컨센서스보기\", \"\").replace(\"연간컨센서스닫기\", \"\")\n",
    "    col.append(result.strip())\n",
    "col"
   ]
  },
  {
   "cell_type": "code",
   "execution_count": 96,
   "metadata": {},
   "outputs": [],
   "source": [
    "import pandas as pd"
   ]
  },
  {
   "cell_type": "code",
   "execution_count": 97,
   "metadata": {},
   "outputs": [],
   "source": [
    "df = pd.DataFrame(value_list, columns=col)"
   ]
  },
  {
   "cell_type": "code",
   "execution_count": 98,
   "metadata": {},
   "outputs": [],
   "source": [
    "def change(x):\n",
    "    result = x.replace(\"\\n\", \"\")\n",
    "    result = result.replace(\"\\t\", \"\")\n",
    "    result = result.replace(\"펼치기\", \"\")\n",
    "    return result\n",
    "\n",
    "df['항목']= df['항목'].apply(change)"
   ]
  },
  {
   "cell_type": "code",
   "execution_count": 99,
   "metadata": {},
   "outputs": [
    {
     "data": {
      "text/plain": [
       "Index(['항목', '2018/12(IFRS연결)', '2019/12(IFRS연결)', '2020/12(IFRS연결)',\n",
       "       '2021/12(IFRS연결)', '2022/12(IFRS연결)', '2023/12(E)(IFRS연결)', '전년대비(YoY)',\n",
       "       '전년대비(YoY)'],\n",
       "      dtype='object')"
      ]
     },
     "execution_count": 99,
     "metadata": {},
     "output_type": "execute_result"
    }
   ],
   "source": [
    "df.columns"
   ]
  },
  {
   "cell_type": "code",
   "execution_count": 100,
   "metadata": {},
   "outputs": [],
   "source": [
    "def change(x):\n",
    "    result = x.replace(\"\\n\", \"\")\n",
    "    result = result.replace(\"\\t\", \"\")\n",
    "    result = result.replace(\"펼치기\", '')\n",
    "    return result\n",
    "df['항목'] = df['항목'].apply(change)"
   ]
  },
  {
   "cell_type": "code",
   "execution_count": 101,
   "metadata": {},
   "outputs": [],
   "source": [
    "df.columns = ['항목', '2018/12(IFRS연결)', '2019/12(IFRS연결)', '2020/12(IFRS연결)',\n",
    "       '2021/12(IFRS연결)', '2022/12(IFRS연결)', '2023/12(E)(IFRS연결)', '전년대비(YoY)',\n",
    "       '전년대비(YoY)']"
   ]
  },
  {
   "cell_type": "code",
   "execution_count": 102,
   "metadata": {},
   "outputs": [],
   "source": [
    "from datetime import datetime"
   ]
  },
  {
   "cell_type": "code",
   "execution_count": 103,
   "metadata": {},
   "outputs": [
    {
     "data": {
      "text/plain": [
       "'20230411143043'"
      ]
     },
     "execution_count": 103,
     "metadata": {},
     "output_type": "execute_result"
    }
   ],
   "source": [
    "now = datetime.now()\n",
    "now = now.strftime(\"%Y%m%d%H%M%S\")\n",
    "now"
   ]
  },
  {
   "cell_type": "code",
   "execution_count": 104,
   "metadata": {},
   "outputs": [],
   "source": [
    "df.to_csv(f\"test({now}).csv\", index=False)"
   ]
  }
 ],
 "metadata": {
  "kernelspec": {
   "display_name": "Python 3",
   "language": "python",
   "name": "python3"
  },
  "language_info": {
   "codemirror_mode": {
    "name": "ipython",
    "version": 3
   },
   "file_extension": ".py",
   "mimetype": "text/x-python",
   "name": "python",
   "nbconvert_exporter": "python",
   "pygments_lexer": "ipython3",
   "version": "3.11.2"
  },
  "orig_nbformat": 4
 },
 "nbformat": 4,
 "nbformat_minor": 2
}
