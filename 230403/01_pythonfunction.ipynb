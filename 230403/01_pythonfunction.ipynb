{
 "cells": [
  {
   "cell_type": "code",
   "execution_count": 8,
   "metadata": {},
   "outputs": [
    {
     "name": "stdout",
     "output_type": "stream",
     "text": [
      "13\n",
      " Hello\n",
      "15\n"
     ]
    }
   ],
   "source": [
    "#함수 어떤 입력 값을 가지고 작업을 실행하고 결과물을 출력하는 것 / 보통 반복실행에서 주요히 사용\n",
    "\n",
    "\n",
    "def func1 (a,b) :    # a, b 는 매개변수 라 칭함\n",
    "    c= a + b \n",
    "    return c \n",
    "\n",
    "d = func1(6,7)\n",
    "print(d)\n",
    "\n",
    "\n",
    "\n",
    "def func2 () :\n",
    "    return \" Hello\"\n",
    "\n",
    "d = func2()\n",
    "\n",
    "print(d)\n",
    "\n",
    "\n",
    "def func3 (*args) : \n",
    "    result = 0 \n",
    "    for i in args : \n",
    "        result += i \n",
    "    return result\n",
    "\n",
    "result = func3 (1,2,3,4,5)\n",
    "\n",
    "print(result)\n",
    "\n",
    "\n",
    "\n",
    "\n",
    "\n",
    "\n"
   ]
  },
  {
   "cell_type": "code",
   "execution_count": 14,
   "metadata": {},
   "outputs": [
    {
     "name": "stdout",
     "output_type": "stream",
     "text": [
      "Hello\n",
      "5\n",
      "HELLO\n",
      "hello\n"
     ]
    }
   ],
   "source": [
    "a = \"Hello\"\n",
    "print(a)\n",
    "\n",
    "\n",
    "#문자의 길이를 출력해주는 함수 len\n",
    "\n",
    "\n",
    "print (len(a))\n",
    "\n",
    "\n",
    "#문자를 소문자 혹은 대문자로 변경하는 함수 \n",
    "\n",
    "# . 이라는 것은 ~ 안에 라는 뜻 -> a 안에 라는 뜻\n",
    "\n",
    "print (a.upper())\n",
    "\n",
    "print (a.lower())\n",
    "\n",
    "\n",
    "\n"
   ]
  },
  {
   "cell_type": "code",
   "execution_count": 18,
   "metadata": {},
   "outputs": [
    {
     "name": "stdout",
     "output_type": "stream",
     "text": [
      "Hello World\n",
      "   Hello World   \n"
     ]
    },
    {
     "data": {
      "text/plain": [
       "'   Hello World   '"
      ]
     },
     "execution_count": 18,
     "metadata": {},
     "output_type": "execute_result"
    }
   ],
   "source": [
    "b = \"hello world\"\n",
    "\n",
    "# 단어의 첫글자만 대문자로 변경 함수\n",
    "\n",
    "print(b.title())\n",
    "\n",
    "# 좌우의 공백을 제거하는 함수 \n",
    "# strip() \n",
    "\n",
    "a = \"   Hello World   \"\n",
    "\n",
    "print (a)\n",
    "a\n"
   ]
  },
  {
   "cell_type": "code",
   "execution_count": 23,
   "metadata": {},
   "outputs": [
    {
     "name": "stdout",
     "output_type": "stream",
     "text": [
      "Hello World\n",
      "   Hello World\n"
     ]
    }
   ],
   "source": [
    "# 좌우 모두 제거\n",
    "a.strip()\n",
    "\n",
    "#좌측 공백 제거\n",
    "a.lstrip()\n",
    "\n",
    "#우측 \" \n",
    "a.rstrip()\n",
    "\n",
    "print(a.strip())\n",
    "print(a.rstrip())\n",
    "\n"
   ]
  },
  {
   "cell_type": "code",
   "execution_count": 28,
   "metadata": {},
   "outputs": [
    {
     "data": {
      "text/plain": [
       "'2.$11$'"
      ]
     },
     "execution_count": 28,
     "metadata": {},
     "output_type": "execute_result"
    }
   ],
   "source": [
    "b = \"$2.$11$\"\n",
    "\n",
    "# 변수 b의 달러 표시 제거 \n",
    "\n",
    "b.lstrip('$')"
   ]
  },
  {
   "cell_type": "code",
   "execution_count": 32,
   "metadata": {},
   "outputs": [
    {
     "data": {
      "text/plain": [
       "'2.11'"
      ]
     },
     "execution_count": 32,
     "metadata": {},
     "output_type": "execute_result"
    }
   ],
   "source": [
    "b.strip('$')\n",
    "\n",
    "#중간도 없애고 싶다면  -> replace 함수 특정값을 다른 값으로 대체 \n",
    "\n",
    "\n",
    "b.replace(\"$\",'')\n"
   ]
  },
  {
   "cell_type": "code",
   "execution_count": 36,
   "metadata": {},
   "outputs": [
    {
     "data": {
      "text/plain": [
       "'HelloWorld'"
      ]
     },
     "execution_count": 36,
     "metadata": {},
     "output_type": "execute_result"
    }
   ],
   "source": [
    "# a 변수 공백 모두 삭제하려면 ?>\n",
    "\n",
    "a.replace(\" \", \"\")\n",
    "\n",
    "a.replace(' ', '')\n",
    "\n"
   ]
  },
  {
   "cell_type": "code",
   "execution_count": 41,
   "metadata": {},
   "outputs": [
    {
     "name": "stdout",
     "output_type": "stream",
     "text": [
      "['1', '2', '3', '4', '5']\n",
      "['1', '2', '3', '4', '5']\n",
      "3\n"
     ]
    }
   ],
   "source": [
    "#문자열을 특정한 값을 기준으로 나눠주는 함수 \n",
    "\n",
    "#split(특정한 값) -> 인자 값을 아무것도 넣지 않으면 \" \" 을 기준으로 나눠준다. \n",
    "\n",
    "a = \"1,2,3,4,5\"\n",
    "\n",
    "b = \"1 2 3 4 5\"\n",
    "\n",
    "print(a.split(','))\n",
    "# ,를 기준으로 리스트형식 출력\n",
    "\n",
    "print(b.split())\n",
    "\n",
    "\n",
    "print(a.split(\",\")[2])\n"
   ]
  },
  {
   "cell_type": "code",
   "execution_count": 43,
   "metadata": {},
   "outputs": [
    {
     "name": "stdout",
     "output_type": "stream",
     "text": [
      "6\n",
      "1\n"
     ]
    }
   ],
   "source": [
    "# max () -> 인자값들 중 가장 큰 숫자를 출력\n",
    "\n",
    "# min() -> 인자값들 중 가장 작은 숫자를 출력\n",
    "\n",
    "print(max(1,6,3,4))\n",
    "print(min(1,6,3,4))\n",
    "\n",
    "\n"
   ]
  },
  {
   "cell_type": "code",
   "execution_count": 46,
   "metadata": {},
   "outputs": [
    {
     "name": "stdout",
     "output_type": "stream",
     "text": [
      "hello\n"
     ]
    }
   ],
   "source": [
    "#일반함수\n",
    "\n",
    "def func1 () :\n",
    "    return \"hello\"\n",
    "\n",
    "#함수를 호출 \n",
    "\n",
    "print (func1())\n",
    "\n",
    "\n"
   ]
  },
  {
   "cell_type": "code",
   "execution_count": 49,
   "metadata": {},
   "outputs": [
    {
     "name": "stdout",
     "output_type": "stream",
     "text": [
      "9\n",
      "3\n",
      "Helloworld\n"
     ]
    }
   ],
   "source": [
    "#매개변수가 존재하는 경우 \n",
    "\n",
    "def func2 (a,b) : \n",
    "    c= a + b \n",
    "    return c \n",
    "\n",
    "print ( func2(3,6))\n",
    "\n",
    "print (func2(1,2))\n",
    "\n",
    "print (func2 ( 'Hello' ,'world'))"
   ]
  },
  {
   "cell_type": "code",
   "execution_count": 51,
   "metadata": {},
   "outputs": [
    {
     "ename": "TypeError",
     "evalue": "func2() missing 1 required positional argument: 'b'",
     "output_type": "error",
     "traceback": [
      "\u001b[1;31m---------------------------------------------------------------------------\u001b[0m",
      "\u001b[1;31mTypeError\u001b[0m                                 Traceback (most recent call last)",
      "Cell \u001b[1;32mIn[51], line 3\u001b[0m\n\u001b[0;32m      1\u001b[0m \u001b[39m#함수의 매개변수의 개수와 호출할 떄 인자의 개수가 다르면 ? \u001b[39;00m\n\u001b[1;32m----> 3\u001b[0m func2 (\u001b[39m4\u001b[39;49m)\n",
      "\u001b[1;31mTypeError\u001b[0m: func2() missing 1 required positional argument: 'b'"
     ]
    }
   ],
   "source": [
    "#함수의 매개변수의 개수와 호출할 떄 인자의 개수가 다르면 ? \n",
    "\n",
    "func2 (4)\n",
    "\n"
   ]
  },
  {
   "cell_type": "code",
   "execution_count": 57,
   "metadata": {},
   "outputs": [
    {
     "name": "stdout",
     "output_type": "stream",
     "text": [
      "-2\n",
      "15\n"
     ]
    }
   ],
   "source": [
    "def func3 (a,b) : \n",
    "    c = 10 \n",
    "    result =a + b -10\n",
    "    return result\n",
    "\n",
    "print(func3(3,5))\n",
    "\n",
    "# 전역 변수와 지역 변수 차이 알기 \n",
    "# 전역 변수 - 어디서든 사용 가능한 변수 , 들여쓰기를 하지 않은 공간에서 생성한 변수 \n",
    "# 지역 변수 - 특정한 구간에서만 사용 가능한 변수 , 들여쓰기가 된 공간에서 생성한 변수 \n",
    "\n",
    "x=3 \n",
    "def func4 (a) : \n",
    "    result = a * x \n",
    "    return result \n",
    "\n",
    "print (func4(5))\n",
    "\n",
    "#x는 전역변수 a는 매개변수 (지역변수)\n",
    "\n",
    "\n"
   ]
  },
  {
   "cell_type": "code",
   "execution_count": 59,
   "metadata": {},
   "outputs": [
    {
     "name": "stdout",
     "output_type": "stream",
     "text": [
      "6\n",
      "7\n"
     ]
    }
   ],
   "source": [
    "# 매개 변수 기본값 설정\n",
    "\n",
    "def func5(a,b,c=2) :\n",
    "    result = a + b - c \n",
    "    return result\n",
    "\n",
    "print( func5(5,4,3,))\n",
    "\n",
    "print(func5(5,4))\n"
   ]
  },
  {
   "cell_type": "code",
   "execution_count": 80,
   "metadata": {},
   "outputs": [
    {
     "name": "stdout",
     "output_type": "stream",
     "text": [
      "3 10\n"
     ]
    }
   ],
   "source": [
    "## 예제 문제\n",
    "#  1. 함수 생성 (매개변수 2개 _min, _max) , _min 부터 _max 까지의 합계를 출력하는 함수 \n",
    " \n",
    "def func9 (_min,_max) : \n",
    "    print (_min)\n",
    "    print (_max)\n",
    "    total = 0\n",
    "    for i in range (_min, _max + 1) : \n",
    "         print (i)\n",
    "         total += i \n",
    "    return total\n",
    "\n",
    "print(3,10)"
   ]
  },
  {
   "cell_type": "code",
   "execution_count": 81,
   "metadata": {},
   "outputs": [
    {
     "name": "stdout",
     "output_type": "stream",
     "text": [
      "3\n",
      "10\n",
      "3\n",
      "4\n",
      "5\n",
      "6\n",
      "7\n",
      "8\n",
      "9\n",
      "10\n"
     ]
    },
    {
     "data": {
      "text/plain": [
       "52"
      ]
     },
     "execution_count": 81,
     "metadata": {},
     "output_type": "execute_result"
    }
   ],
   "source": [
    "#풀이 \n",
    "def func6(_min,_max) : \n",
    "    print(_min)\n",
    "    print(_max)\n",
    "    result = 0\n",
    "    for i in range(_min, _max+1) : \n",
    "        print(i)\n",
    "        result += i\n",
    "    return result\n",
    "\n",
    "\n",
    "\n",
    "func6(3,10)\n",
    "\n",
    "\n",
    "\n",
    "\n"
   ]
  },
  {
   "cell_type": "code",
   "execution_count": 85,
   "metadata": {},
   "outputs": [
    {
     "data": {
      "text/plain": [
       "55"
      ]
     },
     "execution_count": 85,
     "metadata": {},
     "output_type": "execute_result"
    }
   ],
   "source": [
    "def func8(_min,_max) :\n",
    "    result = 0\n",
    "    for i in range(min(_min,_max),max(_min,_max)+1) :\n",
    "        result +=i\n",
    "    return result \n",
    "\n",
    "func8(1,10)\n",
    "func8(10,1)\n"
   ]
  },
  {
   "cell_type": "code",
   "execution_count": 90,
   "metadata": {},
   "outputs": [
    {
     "name": "stdout",
     "output_type": "stream",
     "text": [
      "4\n",
      "4\n",
      "None\n",
      "4\n"
     ]
    }
   ],
   "source": [
    "def func10(a,b): \n",
    "    result = a+b\n",
    "    print(result)\n",
    "\n",
    "func10 (1,3)\n",
    "\n",
    "def func11(a,b): \n",
    "    result = a+b\n",
    "    return result \n",
    "\n",
    "func11(1,3)\n",
    "\n",
    "# 둘은 다른 전혀 다른 함수 쥬피터 노트북의 가상환경에서 2번째 함수가 데이터를 인위적으로 보여주는것 \n",
    "#원래 값 출력은 항상 print 써야함.\n",
    "\n",
    "def func10(a,b): \n",
    "    result = a+b\n",
    "    print(result)\n",
    "\n",
    "x=func10 (1,3) \n",
    "print(x)\n",
    "\n",
    "def func11(a,b): \n",
    "    result = a+b\n",
    "    return result \n",
    "\n",
    "x=func11(1,3) \n",
    "print(x)\n",
    "\n"
   ]
  },
  {
   "cell_type": "code",
   "execution_count": 92,
   "metadata": {},
   "outputs": [
    {
     "name": "stdout",
     "output_type": "stream",
     "text": [
      "(1, 2, 3, 4, 5)\n",
      "(1, 2, 3)\n",
      "(1, 2, 3, 4, 5, 6, 7, 8, 9, 10)\n"
     ]
    }
   ],
   "source": [
    "#함수 생성 -> 인자의 개수가 가변인 경우 \n",
    "def func12(*args): \n",
    "    print(args)\n",
    "\n",
    "func12(1,2,3,4,5)\n",
    "func12(1,2,3)\n",
    "func12(1,2,3,4,5,6,7,8,9,10)  # 소괄호 = 튜플\n",
    "\n",
    "\n"
   ]
  },
  {
   "attachments": {},
   "cell_type": "markdown",
   "metadata": {},
   "source": [
    "- max(), min() 함수를 생성\n",
    " 1.인자의 개수가 가변이다. -> *매개변수 생성\n",
    " 2.각각의 항목들을 비교해서 가장 큰 숫자를 출력 -> return int(숫자)형태\n",
    " 3.예를 들어 4개의 항목의 데이터가 대입\n",
    "   1. 첫번째 항목과 두번쨰 항목을 비교해서 큰 값을 새로운 변수에 대입\n",
    "   2. 1번 과정에서 나온 값과 세번째 항목을 비교해서 큰 값을 다시 변수에 대입\n",
    "   3. 2번 과정에서 나온 값과 마지막 항목을 비교해서 큰 값을 다시 변수에 대입\n",
    "   4. 최종 변수의 값을 return"
   ]
  },
  {
   "cell_type": "code",
   "execution_count": 101,
   "metadata": {},
   "outputs": [
    {
     "name": "stdout",
     "output_type": "stream",
     "text": [
      "54\n"
     ]
    }
   ],
   "source": [
    "def f1(*args) : \n",
    "    result = args[0]\n",
    "    #첫번쨰 원소를 출력\n",
    "    #첫번째 원소와 두번째 원소의 값을 비교하여 큰 값을 result에 대입\n",
    "    #if args[0] > args[1] : \n",
    "    #   result = args[0]\n",
    "    #else: \n",
    "    #   result = args[1]\n",
    "    # if result < args[1] :\n",
    "    #     result = args[1]\n",
    "    \n",
    "    # result 와 세번째 원소를 비교 \n",
    "    #if result > args[2] : \n",
    "    #   result = result \n",
    "    #else:\n",
    "    #    result = args[2]\n",
    "    # if result < args[2]\n",
    "    #     result = args[2]\n",
    "#     for i in range(1,len(args)):\n",
    "#         if result < args[i]:\n",
    "#             result = args[i]\n",
    "#     return result\n",
    "# print(f1(1,3,56,7,8,)) \n",
    "\n",
    "\n",
    "\n",
    "    for i in args : \n",
    "         if result < i : \n",
    "          result = i\n",
    "    return result\n",
    "print(f1(1,3,54,3,))\n",
    "\n"
   ]
  },
  {
   "attachments": {},
   "cell_type": "markdown",
   "metadata": {},
   "source": [
    "평균을 출력해주는 함수 생성 \n",
    "    1. 인자 개수가 가변\n",
    "    2. 받아온 인자 값들을 원소 하나씩 출력\n",
    "    3. 각 원소들의 합계\n",
    "       1. 합계라는 변수 생성 0 을 대입\n",
    "       2. 각 원소들의 값들은 합계에 추가\n",
    "    4. 합계 / 인자의 개수 -> 평균이라는 변수에 대입\n",
    "    5. 평균 값을 return\n"
   ]
  },
  {
   "cell_type": "code",
   "execution_count": 104,
   "metadata": {},
   "outputs": [
    {
     "name": "stdout",
     "output_type": "stream",
     "text": [
      "1\n",
      "2\n",
      "3\n",
      "4\n",
      "5\n",
      "3.0\n"
     ]
    }
   ],
   "source": [
    "def f2(*args) : \n",
    "    result = args[0]\n",
    "    for i in args :\n",
    "        print(i)\n",
    "    result = 0\n",
    "    for i in args : \n",
    "        result += i\n",
    "    avg = result / len(args)\n",
    "    return avg\n",
    "\n",
    "print(f2(1,2,3,4,5))"
   ]
  },
  {
   "cell_type": "code",
   "execution_count": 106,
   "metadata": {},
   "outputs": [],
   "source": [
    "#외부의 모듈을 로드\n",
    "import mod1     "
   ]
  },
  {
   "cell_type": "code",
   "execution_count": 114,
   "metadata": {},
   "outputs": [
    {
     "name": "stdout",
     "output_type": "stream",
     "text": [
      "1\n",
      "2\n",
      "3\n",
      "4\n",
      "5\n"
     ]
    },
    {
     "data": {
      "text/plain": [
       "3.0"
      ]
     },
     "execution_count": 114,
     "metadata": {},
     "output_type": "execute_result"
    }
   ],
   "source": [
    "# mod1. 라 적으면 모듈의 만들어둔 함수가 뜸. \n",
    "\n",
    "mod1. f2(1,2,3,4,5)\n"
   ]
  },
  {
   "cell_type": "code",
   "execution_count": null,
   "metadata": {},
   "outputs": [],
   "source": []
  }
 ],
 "metadata": {
  "kernelspec": {
   "display_name": "Python 3",
   "language": "python",
   "name": "python3"
  },
  "language_info": {
   "codemirror_mode": {
    "name": "ipython",
    "version": 3
   },
   "file_extension": ".py",
   "mimetype": "text/x-python",
   "name": "python",
   "nbconvert_exporter": "python",
   "pygments_lexer": "ipython3",
   "version": "3.11.2"
  },
  "orig_nbformat": 4
 },
 "nbformat": 4,
 "nbformat_minor": 2
}
