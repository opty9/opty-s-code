{
 "cells": [
  {
   "cell_type": "code",
   "execution_count": 2,
   "metadata": {},
   "outputs": [],
   "source": [
    "##클래스 \n",
    "\n",
    "#클래스 선언\n",
    "\n",
    "class Class_1():\n",
    "    #생성자 함수 생성\n",
    "    def __init__(self, input_a, input_b):\n",
    "        self.a = input_a\n",
    "        self.b = input_b "
   ]
  },
  {
   "cell_type": "code",
   "execution_count": 9,
   "metadata": {},
   "outputs": [
    {
     "name": "stdout",
     "output_type": "stream",
     "text": [
      "test\n",
      "ubion\n",
      "test\n"
     ]
    }
   ],
   "source": [
    "#클래스 생성 \n",
    "\n",
    "test_class = Class_1(\"test\", \"10\")\n",
    "\n",
    "print(test_class.a) # test_class 라는 공간 안의 a 값을 출력한다 라는 뜻 \n",
    "\n",
    "test_class2 = Class_1(\"ubion\", \"python\")\n",
    "\n",
    "#1 \n",
    "print(test_class2.a)\n",
    "#2\n",
    "print(test_class.a)\n",
    "# 두 가지 차이 알기 \n",
    "\n",
    "\n",
    " "
   ]
  },
  {
   "cell_type": "code",
   "execution_count": 26,
   "metadata": {},
   "outputs": [],
   "source": [
    "#카페 클래스 선언\n",
    "class Cafe():\n",
    "    # 클래스 변수\n",
    "    menu = {\n",
    "        \"아메리카노\" : [\"물\", \"에스프레소\"],\n",
    "        \"바닐라라떼\" : [\"우유\", \"에스프레소\", \"바닐라시럽\"],\n",
    "        \"카페모카\"   : [\"우유\", \"에스프레소\", \"초코시럽\", \"휘핑크림\"]\n",
    "    }\n",
    "\n",
    "    #생성자 함수 \n",
    "    def __init__(self, input_name):\n",
    "        self.name = input_name \n",
    "    \n",
    "    # 음료제작과정 함수 생성\n",
    "    def made_coffee(self, input_bean, input_select, input_ice):\n",
    "        self.bean = input_bean \n",
    "        self.select = input_select\n",
    "        self.ice = input_ice\n",
    "        #선택한 메뉴의 재료를 추출\n",
    "        self.data = self.menu[self.select]\n",
    "        return (self.bean, self.ice, self.data)\n",
    "    \n",
    "    # 메뉴추가 함수\n",
    "    def add_menu(self, input_menu_name, input_data):\n",
    "        self.menu[input_menu_name] = input_data # 딕셔너리 데이터에 새로운 키 : 밸류 값을 추가\n",
    "        \n",
    "        \n",
    "\n"
   ]
  },
  {
   "cell_type": "code",
   "execution_count": 13,
   "metadata": {},
   "outputs": [],
   "source": [
    "cafe1 = Cafe(\"뺵다방\")"
   ]
  },
  {
   "cell_type": "code",
   "execution_count": 27,
   "metadata": {},
   "outputs": [],
   "source": [
    "cafe2 = Cafe(\"별다방\")"
   ]
  },
  {
   "cell_type": "code",
   "execution_count": 28,
   "metadata": {},
   "outputs": [
    {
     "name": "stdout",
     "output_type": "stream",
     "text": [
      "뺵다방\n",
      "별다방\n"
     ]
    }
   ],
   "source": [
    "print(cafe1.name)\n",
    "print(cafe2.name)"
   ]
  },
  {
   "cell_type": "code",
   "execution_count": 31,
   "metadata": {},
   "outputs": [
    {
     "ename": "TypeError",
     "evalue": "'method' object is not subscriptable",
     "output_type": "error",
     "traceback": [
      "\u001b[1;31m---------------------------------------------------------------------------\u001b[0m",
      "\u001b[1;31mTypeError\u001b[0m                                 Traceback (most recent call last)",
      "Cell \u001b[1;32mIn[31], line 1\u001b[0m\n\u001b[1;32m----> 1\u001b[0m \u001b[39mprint\u001b[39m(cafe1\u001b[39m.\u001b[39;49mmade_coffee[\u001b[39m\"\u001b[39;49m\u001b[39m에디오피아\u001b[39;49m\u001b[39m\"\u001b[39;49m, \u001b[39m\"\u001b[39;49m\u001b[39m아메리카노\u001b[39;49m\u001b[39m\"\u001b[39;49m, \u001b[39mTrue\u001b[39;49;00m])\n\u001b[0;32m      2\u001b[0m \u001b[39mprint\u001b[39m(cafe2\u001b[39m.\u001b[39mmade_coffee[\u001b[39m\"\u001b[39m\u001b[39m케냐\u001b[39m\u001b[39m\"\u001b[39m, \u001b[39m\"\u001b[39m\u001b[39m카페모카\u001b[39m\u001b[39m\"\u001b[39m, \u001b[39mFalse\u001b[39;00m])\n",
      "\u001b[1;31mTypeError\u001b[0m: 'method' object is not subscriptable"
     ]
    }
   ],
   "source": [
    "print(cafe1.made_coffee(\"에디오피아\", \"아메리카노\", True))\n",
    "print(cafe2.made_coffee[\"케냐\", \"카페모카\", False])\n"
   ]
  },
  {
   "cell_type": "code",
   "execution_count": 21,
   "metadata": {},
   "outputs": [
    {
     "ename": "AttributeError",
     "evalue": "'Cafe' object has no attribute 'add_menu'",
     "output_type": "error",
     "traceback": [
      "\u001b[1;31m---------------------------------------------------------------------------\u001b[0m",
      "\u001b[1;31mAttributeError\u001b[0m                            Traceback (most recent call last)",
      "Cell \u001b[1;32mIn[21], line 2\u001b[0m\n\u001b[0;32m      1\u001b[0m \u001b[39m#class 안에 있는 add_menu 함수를 추출\u001b[39;00m\n\u001b[1;32m----> 2\u001b[0m cafe1\u001b[39m.\u001b[39;49madd_menu(\u001b[39m\"\u001b[39m\u001b[39m말차라떼\u001b[39m\u001b[39m\"\u001b[39m,[\u001b[39m\"\u001b[39m\u001b[39m말차파우더\u001b[39m\u001b[39m\"\u001b[39m,\u001b[39m\"\u001b[39m\u001b[39m우유\u001b[39m\u001b[39m\"\u001b[39m])\n\u001b[0;32m      3\u001b[0m cafe2\u001b[39m.\u001b[39madd_menu(\u001b[39m\"\u001b[39m\u001b[39m돌체라떼\u001b[39m\u001b[39m\"\u001b[39m,[\u001b[39m'\u001b[39m\u001b[39m우유\u001b[39m\u001b[39m'\u001b[39m, \u001b[39m'\u001b[39m\u001b[39m에스프레소\u001b[39m\u001b[39m'\u001b[39m, \u001b[39m'\u001b[39m\u001b[39m연유\u001b[39m\u001b[39m'\u001b[39m])\n\u001b[0;32m      5\u001b[0m \u001b[39mprint\u001b[39m(cafe1\u001b[39m.\u001b[39mmenu)\n",
      "\u001b[1;31mAttributeError\u001b[0m: 'Cafe' object has no attribute 'add_menu'"
     ]
    }
   ],
   "source": [
    "#class 안에 있는 add_menu 함수를 추출\n",
    "cafe1.add_menu(\"말차라떼\",[\"말차파우더\",\"우유\"])\n",
    "cafe2.add_menu(\"돌체라떼\",['우유', '에스프레소', '연유'])\n",
    "\n",
    "print(cafe1.menu)\n",
    "print(cafe2.menu)"
   ]
  }
 ],
 "metadata": {
  "kernelspec": {
   "display_name": "Python 3",
   "language": "python",
   "name": "python3"
  },
  "language_info": {
   "codemirror_mode": {
    "name": "ipython",
    "version": 3
   },
   "file_extension": ".py",
   "mimetype": "text/x-python",
   "name": "python",
   "nbconvert_exporter": "python",
   "pygments_lexer": "ipython3",
   "version": "3.11.2"
  },
  "orig_nbformat": 4
 },
 "nbformat": 4,
 "nbformat_minor": 2
}
