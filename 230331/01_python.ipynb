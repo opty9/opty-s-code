{
 "cells": [
  {
   "cell_type": "code",
   "execution_count": 29,
   "metadata": {},
   "outputs": [
    {
     "name": "stdout",
     "output_type": "stream",
     "text": [
      "10\n",
      "test\n",
      "<class 'int'>\n",
      "<class 'str'>\n"
     ]
    }
   ],
   "source": [
    "#변수 선언과 동시에 값을 할당\n",
    "a = 10\n",
    "b = \"test\"\n",
    "\n",
    "#두 변수를 출력\n",
    "print(a)\n",
    "print(b)\n",
    "\n",
    "#두 변수의 데이터 형태 출력\n",
    "\n",
    "print(type(a))\n",
    "print(type(b))\n",
    "\n",
    "\n"
   ]
  },
  {
   "cell_type": "code",
   "execution_count": 4,
   "metadata": {},
   "outputs": [
    {
     "name": "stdout",
     "output_type": "stream",
     "text": [
      "10\n",
      "<class 'str'>\n"
     ]
    }
   ],
   "source": [
    "#숫자 형태의 데이터에 \"\"로 묶어주면 문자열 데이터로 데이터 대입\n",
    "c = \"10\"\n",
    "\n",
    "print(c)\n",
    "print(type(c))\n",
    "\n"
   ]
  },
  {
   "cell_type": "code",
   "execution_count": 7,
   "metadata": {},
   "outputs": [
    {
     "name": "stdout",
     "output_type": "stream",
     "text": [
      "10 4 21 2.3333333333333335 2 1 343\n"
     ]
    }
   ],
   "source": [
    "# 산술 연산자\n",
    "x = 7\n",
    "y = 3\n",
    "\n",
    "print(x+y,x-y,x*y,x/y,x//y,x%y,x**y)"
   ]
  },
  {
   "cell_type": "code",
   "execution_count": 12,
   "metadata": {},
   "outputs": [
    {
     "name": "stdout",
     "output_type": "stream",
     "text": [
      "7\n",
      "8\n",
      "5\n",
      "10\n",
      "3.3333333333333335\n",
      "5.333333333333334\n",
      "3.3333333333333335\n"
     ]
    }
   ],
   "source": [
    "# 대입 연산자 \n",
    "# +=, -=, *=, /=, //=, %=, **=\n",
    "# 산술 연산자와의 차이는 기준이 되는 변수의 데이터를 변경\n",
    "x=7\n",
    "print(x)\n",
    "x += 1 \n",
    "print (x)\n",
    "x-= 3 \n",
    "print(x)\n",
    "x*= 2 \n",
    "print(x)\n",
    "x /= 3\n",
    "print(x)        \n",
    "print(x+2)\n",
    "print(x)   #위의 x+2는 x에 2를 더한 값을 출력할 뿐 x 데이터의 변화는 없다\n"
   ]
  },
  {
   "cell_type": "code",
   "execution_count": 14,
   "metadata": {},
   "outputs": [
    {
     "name": "stdout",
     "output_type": "stream",
     "text": [
      "False\n",
      "True\n",
      "True\n",
      "False\n",
      "True\n",
      "False\n"
     ]
    }
   ],
   "source": [
    "# 비교 연산자\n",
    "# 데이터의 비교를 하여 논리값을 출력\n",
    "# 논리값 bool의 형태 (True, False)\n",
    "x=7\n",
    "y=3\n",
    "\n",
    "print(x==y)\n",
    "print(x!=y)\n",
    "print(x>y)\n",
    "print(x<y)\n",
    "print(x>=y)\n",
    "print(x<=y)"
   ]
  },
  {
   "cell_type": "code",
   "execution_count": 16,
   "metadata": {},
   "outputs": [
    {
     "name": "stdout",
     "output_type": "stream",
     "text": [
      "True\n",
      "False\n",
      "False\n"
     ]
    }
   ],
   "source": [
    "# and, or, not \n",
    "# and : 두 조건이 모두 참인 경우에 참, 나머지의 경우는 모두 거짓\n",
    "print(True and True)\n",
    "print(True and False)\n",
    "print(False and False)"
   ]
  },
  {
   "cell_type": "code",
   "execution_count": 20,
   "metadata": {},
   "outputs": [
    {
     "name": "stdout",
     "output_type": "stream",
     "text": [
      "True\n",
      "True\n",
      "False\n",
      "False\n"
     ]
    }
   ],
   "source": [
    "#or : 두 조건중 하나만 참이면 참을 출력, 두 조건이 모두 거짓인 경우에만 거짓을 출력\n",
    "\n",
    "print(True or True)\n",
    "print(True or False)\n",
    "print(False or False)\n",
    "\n",
    "#not : True는 False로 False는 True로 출력\n",
    "print(not(True))"
   ]
  },
  {
   "cell_type": "code",
   "execution_count": 23,
   "metadata": {},
   "outputs": [
    {
     "name": "stdout",
     "output_type": "stream",
     "text": [
      "a는 10보다 작다\n",
      "프로그램 종료\n"
     ]
    }
   ],
   "source": [
    "# 조건문 \n",
    "# if문 1. if 뒤의 조건식이 참인 경우 코드가 실행.\n",
    "#      2. 조건식이 거짓인 경우 코드가 실행되지 않는다.\n",
    "#      3. 거짓인 경우 코드를 실행하려면 else 구문이 필요.\n",
    "#      4. 조건식이 여러개인 경우 elif 조건식의 형태로 구문을 만들어준다.\n",
    "\n",
    "a=5 \n",
    "\n",
    "#a가 10보다 작은경우 첫번쨰 print 실행, a가 10보다 크거나 같은 경우 첫번째 print 실행 x \n",
    "\n",
    "if a < 10 : \n",
    "    print(\"a는 10보다 작다\")\n",
    "\n",
    "print (\"프로그램 종료\")\n",
    "\n",
    "#a가 15일 경우 프로그램 종료만 나온다. -> 들여쓰기 밖에 되어 있기 때문, 들여 쓰기 안으로 넣으면 아무런 결과값이 나오지않음.\n",
    "\n"
   ]
  },
  {
   "cell_type": "code",
   "execution_count": 28,
   "metadata": {},
   "outputs": [
    {
     "name": "stdout",
     "output_type": "stream",
     "text": [
      "a는 10보다 크거나 같다\n",
      "프로그램 종료\n"
     ]
    }
   ],
   "source": [
    "#if ~ else문\n",
    "a = 15 \n",
    "if a < 10 :\n",
    "    print (\"a는 10보다 작다\")\n",
    "else : \n",
    "    print(\"a는 10보다 크거나 같다\")\n",
    "print(\"프로그램 종료\")\n"
   ]
  },
  {
   "cell_type": "code",
   "execution_count": 31,
   "metadata": {},
   "outputs": [
    {
     "name": "stdout",
     "output_type": "stream",
     "text": [
      "A\n",
      "프로그램 종료\n"
     ]
    }
   ],
   "source": [
    "score = int(input(\"점수를 입력하시오\"))\n",
    "\n",
    "if score >= 90 :\n",
    "    print('A')\n",
    "elif score >= 80 :\n",
    "    print('B')\n",
    "\n",
    "print(\"프로그램 종료\") "
   ]
  },
  {
   "cell_type": "code",
   "execution_count": 37,
   "metadata": {},
   "outputs": [
    {
     "name": "stdout",
     "output_type": "stream",
     "text": [
      "[1, 2, 3, 4, 5, 6, 7, 8, 9, 10]\n",
      "[1, 3, 5, 7, 9]\n"
     ]
    }
   ],
   "source": [
    "#반복문 \n",
    "#range (시작값, 종료값, 증가값)\n",
    "print(list(range(1,11,1)))\n",
    "print(list(range(1,11,2)))"
   ]
  },
  {
   "cell_type": "code",
   "execution_count": 41,
   "metadata": {},
   "outputs": [
    {
     "name": "stdout",
     "output_type": "stream",
     "text": [
      "1\n",
      "2\n",
      "3\n",
      "4\n",
      "5\n",
      "6\n",
      "7\n",
      "8\n",
      "9\n",
      "10\n",
      "프로그램 종료\n",
      "1\n",
      "프로그램 종료\n",
      "2\n",
      "프로그램 종료\n",
      "3\n",
      "프로그램 종료\n",
      "4\n",
      "프로그램 종료\n",
      "5\n",
      "프로그램 종료\n",
      "6\n",
      "프로그램 종료\n",
      "7\n",
      "프로그램 종료\n",
      "8\n",
      "프로그램 종료\n",
      "9\n",
      "프로그램 종료\n",
      "10\n",
      "프로그램 종료\n"
     ]
    }
   ],
   "source": [
    "#for문\n",
    "for i in range(1,11,1):\n",
    "    print(i) #들여쓰기하는 부분을 반복\n",
    "print(\"프로그램 종료\")\n",
    "    \n",
    "    #둘의 차이 알기\n",
    "\n",
    "for i in range(1,11,1):\n",
    "    print(i) #들여쓰기하는 부분을 반복\n",
    "    print(\"프로그램 종료\")\n"
   ]
  },
  {
   "cell_type": "code",
   "execution_count": 45,
   "metadata": {},
   "outputs": [
    {
     "name": "stdout",
     "output_type": "stream",
     "text": [
      "0\n",
      "1\n",
      "2\n",
      "3\n",
      "4\n",
      "5\n",
      "6\n",
      "7\n",
      "8\n",
      "9\n",
      "10\n",
      "8\n",
      "6\n",
      "4\n",
      "2\n"
     ]
    }
   ],
   "source": [
    "for i in range(10):\n",
    "    print(i)\n",
    "\n",
    "for i in range(10,1,-2):\n",
    " print (i)"
   ]
  },
  {
   "cell_type": "code",
   "execution_count": 47,
   "metadata": {},
   "outputs": [
    {
     "name": "stdout",
     "output_type": "stream",
     "text": [
      "1\n",
      "3\n",
      "6\n",
      "10\n",
      "15\n",
      "21\n",
      "28\n",
      "36\n",
      "45\n",
      "55\n"
     ]
    }
   ],
   "source": [
    "# 1 부터 10까지의 합계를 구하시오 \n",
    "# 10번 반복\n",
    "#초기의 합계 값 지정\n",
    "result = 0\n",
    "\n",
    "#반복문 시작\n",
    "for i in range(1,11,1):\n",
    "    #합계 값에 i을 더해준다\n",
    "    result = result + i # result += i 와 같음\n",
    "    print(result)"
   ]
  },
  {
   "cell_type": "code",
   "execution_count": 55,
   "metadata": {},
   "outputs": [
    {
     "name": "stdout",
     "output_type": "stream",
     "text": [
      "2\n",
      "6\n",
      "12\n",
      "20\n",
      "30\n",
      "42\n",
      "56\n",
      "72\n",
      "90\n",
      "110\n",
      "132\n",
      "156\n",
      "182\n",
      "210\n",
      "240\n",
      "272\n",
      "306\n",
      "342\n",
      "380\n",
      "420\n",
      "462\n",
      "506\n",
      "552\n",
      "600\n",
      "650\n",
      "650\n",
      "650\n"
     ]
    }
   ],
   "source": [
    "# 1부터 50까지의 합계를 구한다.\n",
    "# 1부터 50까지의 짝수 합계만 구하는 방법은 ? \n",
    "result = 0\n",
    "for i in range(2,51,2):\n",
    "    result = result + i\n",
    "    print(result) \n",
    "\n",
    "#case 1 (for문)\n",
    "result= 0\n",
    "for i in range(2,51,2):\n",
    "     result += i \n",
    "print(result)\n",
    "\n",
    "#case 2 (for문 if문)\n",
    "result = 0 \n",
    "for i in range(1,51,1):\n",
    "    #짝수 조건: 2로 나눴을떄 나머지가 0\n",
    "    if i % 2 == 0:\n",
    "          result += i  \n",
    "print(result)\n",
    "\n"
   ]
  },
  {
   "cell_type": "code",
   "execution_count": 57,
   "metadata": {},
   "outputs": [
    {
     "name": "stdout",
     "output_type": "stream",
     "text": [
      "1 4\n",
      "2 3\n",
      "3 2\n",
      "4 1\n",
      "4 6\n",
      "5 5\n",
      "6 4\n"
     ]
    }
   ],
   "source": [
    "# 주사위 2개를 굴려서 두 주사위의 합계가 5의 배수인 경우를 출력하시오\n",
    "# 경우의 수 : 36번 -> 6번의 경우의 수 * 6번 경우의 수 \n",
    "# 다중 for문 , if 문 사용\n",
    "\n",
    "for i in range(1,7,1): # 첫번째 주사위 경우의 수 \n",
    "     \n",
    "    for j in range(1,7,1): # 두번째 주사위 경우의 수 \n",
    "        sum =  i + j   # 두 주사위의 합게 = 5 \n",
    "        # 조건 : 5의 배수인 경우\n",
    "        if sum % 5 == 0 : \n",
    "            print(i,j)"
   ]
  },
  {
   "cell_type": "code",
   "execution_count": 66,
   "metadata": {},
   "outputs": [],
   "source": [
    "### 문제 : 페르마의 마지막 정리를 증명하시오. \n",
    "# a**n + b**n = c**n 이 수식에서 n의 값이 2보다 큰 자연수이면 a, b, c의 자연수의 값은 존재하지 않는다.\n",
    "# n의 값이 3인 경우 a, b, c 가 1 부터 10까지 이 정리가 사실임을 증명하시오. \n",
    "\n",
    "# 다중 for문과 if문 사용\n",
    "\n",
    "for a in range(1, 11):\n",
    "    for b in range(1, 11):\n",
    "        for c in range(1, 11):\n",
    "            if a ** 3 + b ** 3 == c ** 3:\n",
    "                answer = print(a , b , c)\n",
    "                if answer == False :\n",
    "                    print(\"답이 없음\")\n",
    "\n",
    "\n",
    "\n"
   ]
  },
  {
   "cell_type": "code",
   "execution_count": 68,
   "metadata": {},
   "outputs": [
    {
     "name": "stdout",
     "output_type": "stream",
     "text": [
      "페르마의 정리 증명을 종료\n"
     ]
    }
   ],
   "source": [
    "#풀이 \n",
    "\n",
    "#1부터 10까지의 반복문 생성\n",
    "for a in range(1,11):\n",
    "    # 2. 이러한 반복문 a, b, c, 10번씩 반복\n",
    "    for b in range(1,11):\n",
    "        for c in range(1,11):\n",
    "            # 1000번 반복하는 반복문 생성\n",
    "            # 조건 생성 -> a**n + b**n == c**n\n",
    "            if a**3 + b**3 == c**3:\n",
    "                print(a, b, c)\n",
    "print(\"페르마의 정리 증명을 종료\")\n",
    "            \n"
   ]
  },
  {
   "cell_type": "code",
   "execution_count": 71,
   "metadata": {},
   "outputs": [
    {
     "name": "stdout",
     "output_type": "stream",
     "text": [
      "0\n",
      "1\n",
      "2\n",
      "3\n",
      "4\n",
      "5\n",
      "6\n",
      "7\n",
      "8\n",
      "9\n",
      "1\n",
      "2\n",
      "3\n",
      "4\n",
      "5\n",
      "6\n",
      "7\n",
      "8\n",
      "9\n",
      "10\n"
     ]
    }
   ],
   "source": [
    "# while 문 \n",
    "\n",
    "# 초기값 지정\n",
    "i = 0\n",
    "\n",
    "while i < 10:\n",
    "    print(i)\n",
    "    i += 1\n",
    "\n",
    "# 차이 알기\n",
    "i = 0 \n",
    "\n",
    "while i < 10:\n",
    "    i += 1 \n",
    "    print(i)\n"
   ]
  },
  {
   "cell_type": "code",
   "execution_count": 73,
   "metadata": {},
   "outputs": [
    {
     "name": "stdout",
     "output_type": "stream",
     "text": [
      "55\n"
     ]
    }
   ],
   "source": [
    "result = 0\n",
    "i = 1 \n",
    "while i <= 10:\n",
    "    result += i\n",
    "    i += 1\n",
    "print(result)"
   ]
  },
  {
   "cell_type": "code",
   "execution_count": 76,
   "metadata": {},
   "outputs": [
    {
     "name": "stdout",
     "output_type": "stream",
     "text": [
      "3\n",
      "4\n",
      "5\n",
      "6\n",
      "7\n",
      "8\n",
      "9\n",
      "10\n"
     ]
    }
   ],
   "source": [
    "#continue , break \n",
    "# continue 반복문으로 돌아간다\n",
    "# break 반복문 종료\n",
    "\n",
    "for i in range (1, 11, 1):\n",
    "    if i < 3:\n",
    "        continue\n",
    "    print(i)"
   ]
  },
  {
   "cell_type": "code",
   "execution_count": 80,
   "metadata": {},
   "outputs": [],
   "source": [
    "\n",
    "while i < 11:\n",
    "    print (i)\n",
    "    if i == 7 :\n",
    "        break\n",
    "    i += 1\n"
   ]
  },
  {
   "cell_type": "code",
   "execution_count": 84,
   "metadata": {},
   "outputs": [
    {
     "name": "stdout",
     "output_type": "stream",
     "text": [
      "42\n"
     ]
    }
   ],
   "source": [
    "### 문제 \n",
    "# 1부터 1000까지의 합을 구하는데 합계가 900이 넘어가는 최초의 숫자는?\n",
    "# 합계라는 변수를 하나 지정 0 을 대입\n",
    "# for, while문을 사용하여 1부터 1000까지의 합계를 구하는 반복문 생성\n",
    "# 합계가 900이 넘는 순간 break\n",
    "# break 당시의 i 값을 출력\n",
    "\n",
    "total = 0\n",
    "for i in range(1, 1001):\n",
    "    total += i\n",
    "    if total > 900:\n",
    "        print(i)\n",
    "        break\n",
    "    "
   ]
  },
  {
   "cell_type": "code",
   "execution_count": 89,
   "metadata": {},
   "outputs": [
    {
     "name": "stdout",
     "output_type": "stream",
     "text": [
      "42\n",
      "903\n"
     ]
    }
   ],
   "source": [
    "#풀이 \n",
    "\n",
    "#합계변수생성 \n",
    "\n",
    "result = 0 \n",
    "\n",
    "# for문\n",
    "for i in range(1, 1001, 1 ): \n",
    "    result += i\n",
    "    # 합계가 900이 넘어가면 반복문 종료\n",
    "    if result > 900 :\n",
    "        print(i) # if 절 밖에 적어도 break가 이미 멈췄기 때문에 i 값 똑같이 나옴. \n",
    "        break\n",
    "print(result)"
   ]
  },
  {
   "cell_type": "code",
   "execution_count": 94,
   "metadata": {},
   "outputs": [
    {
     "name": "stdout",
     "output_type": "stream",
     "text": [
      "42\n",
      "903\n"
     ]
    }
   ],
   "source": [
    "# while문\n",
    "\n",
    "result = 0 \n",
    "#초기값 지정\n",
    "i = 1\n",
    "\n",
    "while i <= 1000: \n",
    "    \n",
    "    result += i\n",
    "    \n",
    "    if result > 900 :\n",
    "        break\n",
    "    \n",
    "    i += 1\n",
    "\n",
    "print(i)\n",
    "print (result) "
   ]
  },
  {
   "cell_type": "code",
   "execution_count": 103,
   "metadata": {},
   "outputs": [
    {
     "name": "stdout",
     "output_type": "stream",
     "text": [
      "(4, 'Hello') (3, 3.14) (4, 'Hello', 3, 3.14) (4, 'Hello', 4, 'Hello', 4, 'Hello')\n",
      "4\n",
      "H\n"
     ]
    }
   ],
   "source": [
    "a = (4, \"Hello\")\n",
    "b = (3, 3.14)\n",
    "c = a + b\n",
    "d = a *3 \n",
    "\n",
    "print(a,b,c,d)\n",
    "\n",
    "\n",
    "# 튜플과 같은 여러개의 원소를 담아내고 있는 변수들은 위치 값으로 각각의 원소를 출력할 수 있다.\n",
    "\n",
    "print(a[0])\n",
    "\n",
    "print(a[1][0])\n",
    "\n"
   ]
  },
  {
   "cell_type": "code",
   "execution_count": 107,
   "metadata": {},
   "outputs": [
    {
     "name": "stdout",
     "output_type": "stream",
     "text": [
      "(20, 30, 40)\n",
      "(20, 30, 40, 50)\n"
     ]
    }
   ],
   "source": [
    "a= (10, 20, 30, 40, 50)\n",
    "\n",
    "# 2번째 원소부터 4번쨰 원소까지 출력\n",
    "\n",
    "print(a[1:4]) # 4번째 전까지\n",
    "\n",
    "print(a[1:]) # 2번쨰부터 마지막까지\n",
    "\n"
   ]
  },
  {
   "cell_type": "code",
   "execution_count": 110,
   "metadata": {},
   "outputs": [
    {
     "name": "stdout",
     "output_type": "stream",
     "text": [
      "[10, 20, 30, 40] [40, 30, 20, 10]\n",
      "[10, 20, 30] [40, 30, 20, 10, 22]\n"
     ]
    }
   ],
   "source": [
    "#list \n",
    "\n",
    "a = [20, 10, 40, 30]\n",
    "b = [10, 20, 30, 40]\n",
    "\n",
    "# a 리스트의 순서를 오름차순으로 변경\n",
    "\n",
    "a.sort()\n",
    "\n",
    "# b 리스트의 순서를 역순으로 변경\n",
    "\n",
    "b.reverse()\n",
    "\n",
    "\n",
    "print(a,b)\n",
    "\n",
    "# a 리스트에서 마지막 항목 삭제 \n",
    "\n",
    "a.pop()\n",
    "\n",
    "# b 리스트에 22라는 항목을 마지막 항에 추가 \n",
    "\n",
    "b.append(22)\n",
    "\n",
    "print (a,b)"
   ]
  },
  {
   "cell_type": "code",
   "execution_count": 116,
   "metadata": {},
   "outputs": [
    {
     "name": "stdout",
     "output_type": "stream",
     "text": [
      "[1, 2, 3, 4, 5, 6, 7, 8, 9, 10]\n"
     ]
    }
   ],
   "source": [
    "x = []\n",
    "\n",
    "for i in range(1,11,1):\n",
    "    x.append(i)\n",
    "    \n",
    "print(x)"
   ]
  },
  {
   "cell_type": "code",
   "execution_count": 120,
   "metadata": {},
   "outputs": [
    {
     "name": "stdout",
     "output_type": "stream",
     "text": [
      "30\n",
      "20\n",
      "80\n",
      "10\n",
      "30\n",
      "20\n",
      "80\n",
      "10\n"
     ]
    }
   ],
   "source": [
    "y = [30, 20, 80, 10]\n",
    "\n",
    "for i in y : \n",
    "    print(i)\n",
    "\n",
    "for i in range(0, len(y),1):\n",
    "    print(y[i])\n",
    "\n",
    "    "
   ]
  },
  {
   "cell_type": "code",
   "execution_count": 128,
   "metadata": {},
   "outputs": [
    {
     "name": "stdout",
     "output_type": "stream",
     "text": [
      "[3, 6, 9, 12, 15, 18, 21, 24, 27, 30, 33, 36, 39, 42, 45, 48, 51, 54, 57, 60, 63, 66, 69]\n"
     ]
    }
   ],
   "source": [
    "#1부터 70까지 숫자들 중에 3의 배수를 리스트의 형태로 만들어서 출력\n",
    "\n",
    "#비어있는 리스트 생성\n",
    "\n",
    "list = []\n",
    "\n",
    "#1~70 까지 반복문 생성\n",
    "for i in range(1,71,1):\n",
    "    #1부터 70까지 값들 리스트에 추가\n",
    "    if i % 3 == 0: # i 값이 3의 배수인 경우\n",
    "        list.append(i)\n",
    "print(list)\n",
    "\n",
    "\n"
   ]
  },
  {
   "cell_type": "code",
   "execution_count": 132,
   "metadata": {},
   "outputs": [
    {
     "name": "stdout",
     "output_type": "stream",
     "text": [
      "[3, 6, 9, 12, 15, 18, 21, 24, 27, 30, 33, 36, 39, 42, 45, 48, 51, 54, 57, 60, 63, 66, 69]\n"
     ]
    }
   ],
   "source": [
    "#while문인 경우\n",
    "\n",
    "list = []\n",
    "i=1\n",
    "\n",
    "while i <= 70:\n",
    "    if i % 3 == 0:\n",
    "     list.append(i)\n",
    "    i += 1 \n",
    "print(list)"
   ]
  },
  {
   "cell_type": "code",
   "execution_count": 138,
   "metadata": {},
   "outputs": [
    {
     "name": "stdout",
     "output_type": "stream",
     "text": [
      "{'name': 'test', 'age': 20, 'phone': '01012345678'}\n",
      "test\n",
      "{'name': 'test', 'age': 20, 'phone': '01012345678', 'area': 'seoul'}\n",
      "{'name': 'test', 'age': 30, 'phone': '01012345678', 'area': 'seoul'}\n",
      "{'name': 'test', 'age': 30, 'area': 'seoul'}\n"
     ]
    }
   ],
   "source": [
    "#딕셔너리 (사전형 데이터)\n",
    "\n",
    "dict = {'name' : 'test', 'age' : 20, 'phone' : '01012345678'}\n",
    "\n",
    "print (dict)\n",
    "\n",
    "#test라는 단어 출력을 하려면 ?\n",
    "\n",
    "print(dict['name']) # 딕셔너리 형태에선 위치로 값을 출력 불가능\n",
    "\n",
    "# 새로운 키 : 밸류 를 추가 \n",
    "# 그냥 새로운 키값을 입력\n",
    "\n",
    "dict['area'] = 'seoul'\n",
    "\n",
    "print(dict)\n",
    "\n",
    "# 기존의 키 값에 있는 밸류를 수정\n",
    "dict['age']= 30\n",
    "\n",
    "print (dict)\n",
    "\n",
    "# 키 값을 삭제\n",
    "\n",
    "del(dict['phone'])\n",
    "\n",
    "print(dict)\n",
    "\n"
   ]
  },
  {
   "cell_type": "code",
   "execution_count": 146,
   "metadata": {},
   "outputs": [
    {
     "name": "stdout",
     "output_type": "stream",
     "text": [
      "3\n",
      "test2\n"
     ]
    }
   ],
   "source": [
    "# DB와 python 을 연동하여 데이터를 받으면 데이터 형태 [{}, {}] -> 리스트안에 딕셔너리 형태\n",
    "\n",
    "test_data = [\n",
    "    {\n",
    "        \"name\" : \"test\",\n",
    "        \"age\" : 20\n",
    "    }, \n",
    "    {\n",
    "        \"name\" : \"test2\",\n",
    "        \"age\" : 30\n",
    "    },\n",
    "    {\n",
    "        \"name\" : \"test3\",\n",
    "        \"age\" : 25\n",
    "    }\n",
    "]\n",
    "\n",
    "print(len(test_data))\n",
    "\n",
    "\n",
    "\n",
    "print(test_data[1][\"name\"])\n",
    "\n"
   ]
  },
  {
   "cell_type": "code",
   "execution_count": 163,
   "metadata": {},
   "outputs": [
    {
     "name": "stdout",
     "output_type": "stream",
     "text": [
      "['test', 'test3']\n"
     ]
    }
   ],
   "source": [
    "#test_data에서 연령대가 20대인 사람의 이름을 리스트로 출력하시오\n",
    "# 비어있는 리스트 생성 , test_data 항목들을 반복문을 통해 출력 , 각 항목들의 나이를 출력, 조건을 생성해\n",
    "# 연령대가 20대인 값을 출력, 20대인 항목에서 이름값만 출력, 해당하는 이름들을 리스트에 추가\n",
    "\n",
    "\n",
    "list = []\n",
    "\n",
    "\n",
    "#두 방식 가능\n",
    "for i in test_data : \n",
    "    if i['age'] >= 20 and i['age'] < 30 :\n",
    "        list.append(i['name'])\n",
    "print(list)\n",
    "    \n",
    "\n",
    "\n",
    "\n",
    "\n",
    "\n",
    "\n"
   ]
  }
 ],
 "metadata": {
  "kernelspec": {
   "display_name": "Python 3",
   "language": "python",
   "name": "python3"
  },
  "language_info": {
   "codemirror_mode": {
    "name": "ipython",
    "version": 3
   },
   "file_extension": ".py",
   "mimetype": "text/x-python",
   "name": "python",
   "nbconvert_exporter": "python",
   "pygments_lexer": "ipython3",
   "version": "3.11.2"
  },
  "orig_nbformat": 4
 },
 "nbformat": 4,
 "nbformat_minor": 2
}
