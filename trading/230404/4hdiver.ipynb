import yfinance as yf
import pandas as pd

# 종목 코드
ticker = 'AAPL'

# 데이터 가져오기
data = yf.download(ticker, start='2015-01-01', interval='4h')

# RSI 계산
n = 14
delta = data['Adj Close'].diff()
gain = delta.where(delta > 0, 0)
loss = -delta.where(delta < 0, 0)
avg_gain = gain.rolling(window=n).mean()
avg_loss = loss.rolling(window=n).mean().abs()
rs = avg_gain / avg_loss
rsi = 100 - (100 / (1 + rs))

# 다이버전스 패턴 탐지
divergence_buy = ((rsi > 30) & (rsi < 50) & (rsi.shift(1) < 30) & (rsi.shift(2) < 30))
divergence_sell = ((rsi > 50) & (rsi < 70) & (rsi.shift(1) > 70) & (rsi.shift(2) > 70))

# 수익률 계산
buy_and_hold_returns = (data['Adj Close'][-1] / data['Adj Close'][0] - 1) * 100
divergence_returns = 0

buy_price = 0
for i in range(len(divergence_buy)):
    if divergence_buy[i]:
        buy_price = data['Adj Close'][i]
    if divergence_sell[i] and buy_price != 0:
        if data['Adj Close'][i] / buy_price >= 1.3:
            divergence_returns += 30
        else:
            divergence_returns += (data['Adj Close'][i] / buy_price - 1) * 100
        buy_price = 0
        
print(f'Buy and hold returns: {buy_and_hold_returns:.2f}%')
print(f'Divergence returns: {divergence_returns:.2f}%')
